{
 "cells": [
  {
   "cell_type": "markdown",
   "metadata": {
    "slideshow": {
     "slide_type": "-"
    }
   },
   "source": [
    "# 처음 시작하는 파이썬\n",
    "한빛미디어 \n",
    "(Introducing Python 번역)\n",
    "\n",
    "전부는 아니고, 읽다가 적어두고 싶은 것만 적어둔다."
   ]
  },
  {
   "cell_type": "markdown",
   "metadata": {
    "slideshow": {
     "slide_type": "-"
    }
   },
   "source": [
    "## 5장 파이썬 표준 라이브러리\n",
    "### 5.5.1 setdefault()\n",
    "\n",
    "dict.get()은 키가 없는 경우 지정된 값을 리턴.\n",
    "\n",
    "dict.setdefault()는 값이 없는 경우 키 생성해서 dict 를 수정해줌."
   ]
  },
  {
   "cell_type": "code",
   "execution_count": 7,
   "metadata": {
    "collapsed": false
   },
   "outputs": [
    {
     "name": "stdout",
     "output_type": "stream",
     "text": [
      "{'b': 2, 'a': 1}\n",
      "3\n",
      "{'b': 2, 'a': 1}\n",
      "4\n",
      "{'b': 2, 'c': 4, 'a': 1}\n"
     ]
    }
   ],
   "source": [
    "dic = {'a': 1, 'b': 2}\n",
    "print(dic)\n",
    "c = dic.get('c', 3)\n",
    "print(c)\n",
    "print(dic)\n",
    "c = dic.setdefault('c', 4)  # 이때 'c'가 추가된다.\n",
    "print(c)\n",
    "\n",
    "print(dic)"
   ]
  },
  {
   "cell_type": "code",
   "execution_count": 22,
   "metadata": {
    "collapsed": false
   },
   "outputs": [
    {
     "name": "stdout",
     "output_type": "stream",
     "text": [
      "0\n",
      "defaultdict(<class 'int'>, {'aa': 1})\n",
      "defaultdict(<class 'int'>, {'aa': 1, 'bb': 0})\n",
      "defaultdict(<function hi at 0x10333a730>, {'안녕?': 'hi~'})\n",
      "defaultdict(<function <lambda> at 0x10332cd08>, {'잘지내?': '그래요'})\n"
     ]
    }
   ],
   "source": [
    "# int() 함수는 0을 리턴하는 함수다.\n",
    "zero = int()\n",
    "print(zero)\n",
    "\n",
    "# 아래 함수는 함수를 인자로 받는다.\n",
    "from collections import defaultdict\n",
    "dic = defaultdict(int)\n",
    "\n",
    "#이제 dic 은 키가 없는 경우 기본값이 0이다.\n",
    "\n",
    "dic['aa'] = 1\n",
    "print(dic)\n",
    "\n",
    "dic['bb']\n",
    "print(dic)\n",
    "\n",
    "\n",
    "# 내가 함수 만들어서 넣어도 된다.\n",
    "def hi():\n",
    "    return 'hi~'\n",
    "\n",
    "dic = defaultdict(hi)\n",
    "dic['안녕?']\n",
    "print(dic)\n",
    "\n",
    "# 람다도 된다.\n",
    "dic = defaultdict(lambda: '그래요')\n",
    "dic['잘지내?']\n",
    "print(dic)"
   ]
  },
  {
   "cell_type": "code",
   "execution_count": 33,
   "metadata": {
    "collapsed": false
   },
   "outputs": [
    {
     "name": "stdout",
     "output_type": "stream",
     "text": [
      "계란 1\n",
      "스팸 3\n",
      "=======\n",
      "계란 1\n",
      "스팸 3\n"
     ]
    }
   ],
   "source": [
    "# 자동 카운터 !!!!\n",
    "from collections import defaultdict\n",
    "\n",
    "counter = {}\n",
    "for food in ['스팸', '계란', '스팸', '스팸']:\n",
    "    if not food in counter:\n",
    "        counter[food] = 0                      # 키가 없는 경우 키를 넣어주어야 한다.\n",
    "    counter[food] += 1\n",
    "    \n",
    "for food, count in counter.items():\n",
    "    print(food, count)\n",
    "\n",
    "print(\"=======\")\n",
    "\n",
    "counter = defaultdict(int)\n",
    "for food in ['스팸', '계란', '스팸', '스팸']:\n",
    "    counter[food] += 1                          # 키가 없는 경우 자동으로 0으로 초기화 된다.\n",
    "\n",
    "for food, count in counter.items():\n",
    "    print(food, count)"
   ]
  },
  {
   "cell_type": "markdown",
   "metadata": {
    "collapsed": true
   },
   "source": [
    "### 5.5.2 카운터\n",
    "\n",
    "오.. 이런 좋은 것이 있구나."
   ]
  },
  {
   "cell_type": "code",
   "execution_count": 47,
   "metadata": {
    "collapsed": false
   },
   "outputs": [
    {
     "name": "stdout",
     "output_type": "stream",
     "text": [
      "Counter({'스팸': 3, '계란': 1})\n",
      "[('스팸', 3), ('계란', 1)]\n",
      "[('스팸', 3)]\n",
      "Counter({'계란': 2, '베이컨': 1})\n",
      "Counter({'계란': 3, '스팸': 3, '베이컨': 1})\n",
      "Counter({'스팸': 3})\n",
      "Counter({'계란': 1})\n",
      "Counter({'스팸': 3, '계란': 2, '베이컨': 1})\n"
     ]
    }
   ],
   "source": [
    "from collections import Counter\n",
    "\n",
    "breakfast = ['스팸', '계란', '스팸', '스팸']\n",
    "\n",
    "counter1 = Counter(breakfast)\n",
    "print(counter1)\n",
    "print(counter1.most_common())  # 제일 숫자 많은 것부터\n",
    "print(counter1.most_common(1))  # 한개만\n",
    "\n",
    "lunch = ['계란', '계란', '베이컨']\n",
    "counter2 = Counter(lunch)\n",
    "print(counter2)\n",
    "\n",
    "# 집합처럼 쓸 수 있다 !!!\n",
    "print(counter1+ counter2)\n",
    "print(counter1- counter2)\n",
    "print(counter1 & counter2)    # 교집합\n",
    "print(counter1 | counter2)    # 합집합"
   ]
  },
  {
   "cell_type": "markdown",
   "metadata": {},
   "source": [
    "### 5.5.3 OrderedDict\n",
    "\n",
    "순서 유지하는 dict "
   ]
  },
  {
   "cell_type": "code",
   "execution_count": null,
   "metadata": {
    "collapsed": true
   },
   "outputs": [],
   "source": [
    "from collections import OrderedDict"
   ]
  },
  {
   "cell_type": "markdown",
   "metadata": {},
   "source": [
    "### 5.5.4 데크 == 스택+큐\n",
    "\n",
    "앞에서도 뺄수있고, 뒤에서도 pop할수있다."
   ]
  },
  {
   "cell_type": "code",
   "execution_count": null,
   "metadata": {
    "collapsed": true
   },
   "outputs": [],
   "source": [
    "from collections import deque"
   ]
  }
 ],
 "metadata": {
  "kernelspec": {
   "display_name": "Python 3",
   "language": "python",
   "name": "python3"
  },
  "language_info": {
   "codemirror_mode": {
    "name": "ipython",
    "version": 3
   },
   "file_extension": ".py",
   "mimetype": "text/x-python",
   "name": "python",
   "nbconvert_exporter": "python",
   "pygments_lexer": "ipython3",
   "version": "3.5.1"
  }
 },
 "nbformat": 4,
 "nbformat_minor": 0
}
