{
 "cells": [
  {
   "cell_type": "markdown",
   "metadata": {
    "slideshow": {
     "slide_type": "-"
    }
   },
   "source": [
    "# 처음 시작하는 파이썬\n",
    "한빛미디어 \n",
    "(Introducing Python 번역)\n",
    "\n",
    "전부는 아니고, 읽다가 적어두고 싶은 것만 적어둔다."
   ]
  },
  {
   "cell_type": "markdown",
   "metadata": {
    "slideshow": {
     "slide_type": "-"
    }
   },
   "source": [
    "## 4장 파이 크러스트: 코드 구조\n",
    "### 4.7.7 함수는 기본객체\n",
    "\n",
    "first class citizen"
   ]
  },
  {
   "cell_type": "code",
   "execution_count": 3,
   "metadata": {
    "collapsed": false
   },
   "outputs": [
    {
     "name": "stdout",
     "output_type": "stream",
     "text": [
      "6\n"
     ]
    }
   ],
   "source": [
    "def sum_args(*args):\n",
    "    return sum(args)\n",
    "\n",
    "def runner(func, *args):\n",
    "    return func(*args)\n",
    "    \n",
    "print(runner(sum_args, 1,2,3))"
   ]
  },
  {
   "cell_type": "markdown",
   "metadata": {},
   "source": [
    "### 4.7.9 클로저\n",
    "내부함수는 클로저로 사용가능."
   ]
  },
  {
   "cell_type": "code",
   "execution_count": 6,
   "metadata": {
    "collapsed": false
   },
   "outputs": [
    {
     "name": "stdout",
     "output_type": "stream",
     "text": [
      "우리는 '주인님~'이라고 말하는 로봇이다\n",
      "우리는 '안녕~'이라고 말하는 로봇이다\n"
     ]
    }
   ],
   "source": [
    "def robot(saying):\n",
    "    def inner():\n",
    "        return \"우리는 '%s'이라고 말하는 로봇이다\" % saying\n",
    "    return inner\n",
    "\n",
    "a = robot('주인님~')\n",
    "b = robot('안녕~')\n",
    "\n",
    "aa = a()   # a 는 함수다. 문자열이 아니다.\n",
    "bb = b()\n",
    "\n",
    "print(aa)\n",
    "print(bb)"
   ]
  }
 ],
 "metadata": {
  "kernelspec": {
   "display_name": "Python 3",
   "language": "python",
   "name": "python3"
  },
  "language_info": {
   "codemirror_mode": {
    "name": "ipython",
    "version": 3
   },
   "file_extension": ".py",
   "mimetype": "text/x-python",
   "name": "python",
   "nbconvert_exporter": "python",
   "pygments_lexer": "ipython3",
   "version": "3.5.1"
  }
 },
 "nbformat": 4,
 "nbformat_minor": 0
}
