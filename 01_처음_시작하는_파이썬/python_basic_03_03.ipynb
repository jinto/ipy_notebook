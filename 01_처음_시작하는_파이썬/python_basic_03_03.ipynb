{
 "cells": [
  {
   "cell_type": "markdown",
   "metadata": {
    "slideshow": {
     "slide_type": "-"
    }
   },
   "source": [
    "# 처음 시작하는 파이썬\n",
    "한빛미디어 \n",
    "(Introducing Python 번역)\n",
    "\n",
    "전부는 아니고, 읽다가 적어두고 싶은 것만 적어둔다."
   ]
  },
  {
   "cell_type": "markdown",
   "metadata": {
    "slideshow": {
     "slide_type": "-"
    }
   },
   "source": [
    "## 3장 리스트, 튜플, 딕셔너리, 셋\n",
    "### 3.4 딕셔너리"
   ]
  },
  {
   "cell_type": "code",
   "execution_count": 23,
   "metadata": {
    "collapsed": false
   },
   "outputs": [
    {
     "name": "stdout",
     "output_type": "stream",
     "text": [
      "{'c': 'd', 'e': 'f', 'a': 'b'}\n",
      "{'c': 'd', 'e': 'f', 'a': 'b'}\n"
     ]
    }
   ],
   "source": [
    "# dict() 함수로 여러가지 컬렉션을 딕셔너리로 만들 수 있다.\n",
    "\n",
    "lol = [['a', 'b'], ['c', 'd'], ['e', 'f']]\n",
    "d1 = dict(lol)\n",
    "\n",
    "lol = (['a', 'b'], ['c', 'd'], ['e', 'f'])\n",
    "d2 = dict(lol)\n",
    "\n",
    "lol = ('ab', 'c', 'd'], ['e', 'f'])\n",
    "d2 = dict(lol)\n",
    "\n",
    "\n",
    "print(d1)\n",
    "print(d2)"
   ]
  },
  {
   "cell_type": "code",
   "execution_count": null,
   "metadata": {
    "collapsed": true
   },
   "outputs": [],
   "source": []
  }
 ],
 "metadata": {
  "kernelspec": {
   "display_name": "Python 3",
   "language": "python",
   "name": "python3"
  },
  "language_info": {
   "codemirror_mode": {
    "name": "ipython",
    "version": 3
   },
   "file_extension": ".py",
   "mimetype": "text/x-python",
   "name": "python",
   "nbconvert_exporter": "python",
   "pygments_lexer": "ipython3",
   "version": "3.5.1"
  }
 },
 "nbformat": 4,
 "nbformat_minor": 0
}
