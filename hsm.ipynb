{
 "cells": [
  {
   "cell_type": "markdown",
   "metadata": {},
   "source": [
    "연습용으로 가져온 것\n",
    "\n",
    "\n",
    "행스모 연습\n",
    "====\n",
    "\n",
    "ipython 연습을 할겁니다.\n",
    "\n",
    "* 오늘 할 내용\n",
    "    * 마크다운 연습\n",
    "\n",
    "마크다운 연습\n",
    "---\n",
    "* 링크: [구글](http://google.com)\n",
    "* 코드\n",
    "```javascript\n",
    "var add = function(a, b) {\n",
    "    return a + b;\n",
    "};\n",
    "```\n",
    "* 이미지링크 : ![눈결정체](http://www.its.caltech.edu/~atomic/snowcrystals/photos/w041219b055.jpg)\n"
   ]
  },
  {
   "cell_type": "code",
   "execution_count": 2,
   "metadata": {
    "collapsed": false
   },
   "outputs": [
    {
     "data": {
      "application/javascript": [
       "var add = function(a, b) {\n",
       "    return a + b;\n",
       "};\n",
       "var c = add(3, 4);\n",
       "console.log(c);"
      ],
      "text/plain": [
       "<IPython.core.display.Javascript at 0x1043c0410>"
      ]
     },
     "metadata": {},
     "output_type": "display_data"
    }
   ],
   "source": [
    "%%javascript\n",
    "var add = function(a, b) {\n",
    "    return a + b;\n",
    "};\n",
    "var c = add(3, 4);\n",
    "console.log(c);"
   ]
  },
  {
   "cell_type": "markdown",
   "metadata": {},
   "source": [
    "* [seymour papert](http://en.wikipedia.org/wiki/Seymour_Papert)\n",
    "    * ![seymour papert](http://upload.wikimedia.org/wikipedia/commons/thumb/b/b6/Papert.jpg/150px-Papert.jpg)\n",
    "    * [LOGO](http://en.wikipedia.org/wiki/Logo_(programming_language))\n",
    "* [donald knuth](http://en.wikipedia.org/wiki/Donald_Knuth)\n",
    "    * ![donal knuth](http://upload.wikimedia.org/wikipedia/commons/thumb/4/4f/KnuthAtOpenContentAlliance.jpg/192px-KnuthAtOpenContentAlliance.jpg)\n",
    "    * TEX, METAFONT\n",
    "    * [literate programming](http://en.wikipedia.org/wiki/Literate_programming)\n",
    "* [douglas carl engelbart](http://en.wikipedia.org/wiki/Douglas_Engelbart)\n",
    "    * ![douglas carl engelbart](http://upload.wikimedia.org/wikipedia/commons/thumb/7/78/Douglas_Engelbart_in_2008.jpg/200px-Douglas_Engelbart_in_2008.jpg)\n",
    "* [sketchpad](http://en.wikipedia.org/wiki/Sketchpad)\n",
    "    * ![sketchpad](http://www.designworldonline.com/wp-content/uploads/2013/02/Sutherland-at-TX-2.jpg)\n",
    "    * [ivan sutherland](http://en.wikipedia.org/wiki/Ivan_Sutherland)\n",
    "    * ![ivan sutherland](http://upload.wikimedia.org/wikipedia/commons/thumb/5/5c/Ivan_Sutherland_at_CHM.jpg/150px-Ivan_Sutherland_at_CHM.jpg)\n",
    "* [a personal computer for childern of all ages](http://www.mprove.de/diplom/gui/kay72.html)\n",
    "\n",
    "* [parc](http://en.wikipedia.org/wiki/PARC_(company))\n",
    "* [memex](http://en.wikipedia.org/wiki/Memex)\n",
    "* [john von neumann](http://en.wikipedia.org/wiki/John_von_Neumann)\n",
    "    * ![john von neumann](http://upload.wikimedia.org/wikipedia/commons/thumb/5/5e/JohnvonNeumann-LosAlamos.gif/220px-JohnvonNeumann-LosAlamos.gif)\n",
    "* [adobe history](http://www.adobe.com/aboutadobe/history/)\n",
    "* [bret victor tangle](http://worrydream.com/Tangle/)\n",
    "* [edward tufte](http://www.edwardtufte.com/tufte/)"
   ]
  },
  {
   "cell_type": "code",
   "execution_count": 10,
   "metadata": {
    "collapsed": false
   },
   "outputs": [
    {
     "data": {
      "text/html": [
       "\n",
       "        <iframe\n",
       "            width=\"400\"\n",
       "            height=300\"\n",
       "            src=\"https://www.youtube.com/embed/6orsmFndx_o\"\n",
       "            frameborder=\"0\"\n",
       "            allowfullscreen\n",
       "        ></iframe>\n",
       "        "
      ],
      "text/plain": [
       "<IPython.lib.display.YouTubeVideo at 0x10487ed90>"
      ]
     },
     "execution_count": 10,
     "metadata": {},
     "output_type": "execute_result"
    }
   ],
   "source": [
    "from IPython.display import YouTubeVideo\n",
    "YouTubeVideo('6orsmFndx_o')"
   ]
  },
  {
   "cell_type": "markdown",
   "metadata": {},
   "source": [
    "* [alankay demos grail](https://www.youtube.com/watch?v=QQhVQ1UG6aM)"
   ]
  },
  {
   "cell_type": "markdown",
   "metadata": {},
   "source": [
    "이제부터 본격적으로 캔버스 연습\n",
    "===="
   ]
  },
  {
   "cell_type": "code",
   "execution_count": 7,
   "metadata": {
    "collapsed": false
   },
   "outputs": [
    {
     "data": {
      "text/html": [
       "<canvas id=\"canvas\">\n",
       "<script>\n",
       "    var canvas = document.querySelector('#canvas');\n",
       "    canvas.width = 200;\n",
       "    canvas.height = 200;\n",
       "</script>"
      ],
      "text/plain": [
       "<IPython.core.display.HTML at 0x1043b7590>"
      ]
     },
     "metadata": {},
     "output_type": "display_data"
    }
   ],
   "source": [
    "%%html\n",
    "<canvas id=\"canvas\">\n",
    "<script>\n",
    "    var canvas = document.querySelector('#canvas');\n",
    "    canvas.width = 200;\n",
    "    canvas.height = 200;\n",
    "</script>"
   ]
  },
  {
   "cell_type": "code",
   "execution_count": 11,
   "metadata": {
    "collapsed": false
   },
   "outputs": [
    {
     "data": {
      "application/javascript": [
       "var g = canvas.getContext('2d');\n",
       "g.fillRect(10, 10, 100, 100);"
      ],
      "text/plain": [
       "<IPython.core.display.Javascript at 0x10487ec50>"
      ]
     },
     "metadata": {},
     "output_type": "display_data"
    }
   ],
   "source": [
    "%%javascript\n",
    "var g = canvas.getContext('2d');\n",
    "g.fillRect(10, 10, 100, 100);"
   ]
  }
 ],
 "metadata": {
  "kernelspec": {
   "display_name": "Python 3",
   "language": "python",
   "name": "python3"
  },
  "language_info": {
   "codemirror_mode": {
    "name": "ipython",
    "version": 3
   },
   "file_extension": ".py",
   "mimetype": "text/x-python",
   "name": "python",
   "nbconvert_exporter": "python",
   "pygments_lexer": "ipython3",
   "version": "3.4.2"
  }
 },
 "nbformat": 4,
 "nbformat_minor": 0
}
