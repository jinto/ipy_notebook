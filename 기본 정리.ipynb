{
 "cells": [
  {
   "cell_type": "markdown",
   "metadata": {},
   "source": [
    "요기를 따라했다. http://www.slideshare.net/dahlmoon/20160129\n",
    "\n",
    "파이썬 노트북으로 공부하고 깃헙으로 공유하면, 타이핑을 하면서 실행하면서 공유도 하게된다.\n",
    "\n",
    "암튼, 파이썬공부!"
   ]
  },
  {
   "cell_type": "markdown",
   "metadata": {},
   "source": [
    "\n",
    "# 파이썬도 모든 것이 객체로구나"
   ]
  },
  {
   "cell_type": "code",
   "execution_count": 28,
   "metadata": {
    "collapsed": false
   },
   "outputs": [
    {
     "data": {
      "text/plain": [
       "str"
      ]
     },
     "execution_count": 28,
     "metadata": {},
     "output_type": "execute_result"
    }
   ],
   "source": [
    "# 파이썬도 모든 것이 객체로구나..\n",
    "# 루비만 쓰다가 파이썬 까먹겠다, 살짝 정리해두자.\n",
    "\n",
    "type(\"Hello, World\")"
   ]
  },
  {
   "cell_type": "code",
   "execution_count": 4,
   "metadata": {
    "collapsed": false
   },
   "outputs": [
    {
     "data": {
      "text/plain": [
       "int"
      ]
     },
     "execution_count": 4,
     "metadata": {},
     "output_type": "execute_result"
    }
   ],
   "source": [
    "type(17)"
   ]
  },
  {
   "cell_type": "markdown",
   "metadata": {},
   "source": [
    "## 객체에는 __class__ 라는 멤버가 있다"
   ]
  },
  {
   "cell_type": "code",
   "execution_count": 7,
   "metadata": {
    "collapsed": false
   },
   "outputs": [
    {
     "data": {
      "text/plain": [
       "'type'"
      ]
     },
     "execution_count": 7,
     "metadata": {},
     "output_type": "execute_result"
    }
   ],
   "source": [
    "# int 라는 녀석도 객체다.??!!??\n",
    "int.__class__.__name__"
   ]
  },
  {
   "cell_type": "code",
   "execution_count": 8,
   "metadata": {
    "collapsed": false
   },
   "outputs": [
    {
     "data": {
      "text/plain": [
       "'int'"
      ]
     },
     "execution_count": 8,
     "metadata": {},
     "output_type": "execute_result"
    }
   ],
   "source": [
    "# intobj 라는 변수는 물론 객체다.\n",
    "# 객체에는 __class__ 라는 멤버가 있구나.\n",
    "intobj = 1\n",
    "intobj.__class__.__name__"
   ]
  },
  {
   "cell_type": "code",
   "execution_count": 14,
   "metadata": {
    "collapsed": false
   },
   "outputs": [
    {
     "data": {
      "text/plain": [
       "True"
      ]
     },
     "execution_count": 14,
     "metadata": {},
     "output_type": "execute_result"
    }
   ],
   "source": [
    "isinstance(intobj.__class__  , type)"
   ]
  },
  {
   "cell_type": "code",
   "execution_count": 25,
   "metadata": {
    "collapsed": true
   },
   "outputs": [],
   "source": [
    "def typeof(obj):\n",
    "    return obj.__class__\n",
    "\n",
    "def valueof(obj):\n",
    "    if obj.__class__ == type(obj):\n",
    "        print(eval(obj.__class__.__name__ + '(obj)'))\n",
    "        return eval(obj.__class__.__name__ + '(obj)')"
   ]
  },
  {
   "cell_type": "code",
   "execution_count": 27,
   "metadata": {
    "collapsed": false
   },
   "outputs": [
    {
     "name": "stdout",
     "output_type": "stream",
     "text": [
      "<class 'int'>\n",
      "1\n",
      "1\n",
      "<class 'float'>\n",
      "1.1\n",
      "1.1\n",
      "<class 'list'>\n",
      "[1, 2]\n",
      "[1, 2]\n"
     ]
    }
   ],
   "source": [
    "print(typeof(1))\n",
    "print(valueof(1))\n",
    "print(typeof(1.1))\n",
    "print(valueof(1.1))\n",
    "print(typeof([1,2]))\n",
    "print(valueof([1,2]))"
   ]
  },
  {
   "cell_type": "markdown",
   "metadata": {},
   "source": [
    "## object 라는 객체가 있다. 이게 최상위 객체다."
   ]
  },
  {
   "cell_type": "code",
   "execution_count": 29,
   "metadata": {
    "collapsed": false
   },
   "outputs": [
    {
     "data": {
      "text/plain": [
       "type"
      ]
     },
     "execution_count": 29,
     "metadata": {},
     "output_type": "execute_result"
    }
   ],
   "source": [
    "type(object)"
   ]
  },
  {
   "cell_type": "code",
   "execution_count": 31,
   "metadata": {
    "collapsed": false
   },
   "outputs": [
    {
     "data": {
      "text/plain": [
       "True"
      ]
     },
     "execution_count": 31,
     "metadata": {},
     "output_type": "execute_result"
    }
   ],
   "source": [
    "# 숫자 1 도 object 의 인스턴스란다.\n",
    "\n",
    "isinstance(1, object)"
   ]
  },
  {
   "cell_type": "markdown",
   "metadata": {},
   "source": [
    "### 바뀌지 않는 변수/ 바뀔수 있는 변수가 있다.\n",
    "\n",
    "int, float, complex, str, unicode, bytes, tuple, frozenset 은 immutable 로써 값이 바뀌지 않는다.\n",
    "\n",
    "list, dict, set, bytes-array 등은 mutalbe 이다. 값이 변할 수 있다."
   ]
  },
  {
   "cell_type": "code",
   "execution_count": 35,
   "metadata": {
    "collapsed": false
   },
   "outputs": [
    {
     "data": {
      "text/plain": [
       "str"
      ]
     },
     "execution_count": 35,
     "metadata": {},
     "output_type": "execute_result"
    }
   ],
   "source": [
    "# 타입은 바뀐다\n",
    "# int(), float(), str(), list(), dict(), tuple(), set()\n",
    "\n",
    "v = 1\n",
    "\n",
    "typeof(str(v))"
   ]
  },
  {
   "cell_type": "code",
   "execution_count": 43,
   "metadata": {
    "collapsed": false
   },
   "outputs": [
    {
     "data": {
      "text/plain": [
       "4503985280"
      ]
     },
     "execution_count": 43,
     "metadata": {},
     "output_type": "execute_result"
    }
   ],
   "source": [
    "# 숫자도 실제로는 객체로 생성되고,\n",
    "id(1)"
   ]
  },
  {
   "cell_type": "code",
   "execution_count": 41,
   "metadata": {
    "collapsed": false
   },
   "outputs": [
    {
     "data": {
      "text/plain": [
       "4503985280"
      ]
     },
     "execution_count": 41,
     "metadata": {},
     "output_type": "execute_result"
    }
   ],
   "source": [
    "# 한번 생성된 것이 재사용되는구나\n",
    "v = 1\n",
    "type(v)\n",
    "id(v)"
   ]
  },
  {
   "cell_type": "code",
   "execution_count": 54,
   "metadata": {
    "collapsed": false
   },
   "outputs": [
    {
     "name": "stdout",
     "output_type": "stream",
     "text": [
      "38\n",
      "-18\n",
      "280\n",
      "0.35714285714285715\n",
      "0\n"
     ]
    }
   ],
   "source": [
    "# 숫자타입들은 이런 것이 된다.\n",
    "x = 10\n",
    "y = 28\n",
    "\n",
    "print(x + y)\n",
    "print(x - y)\n",
    "print(x * y)\n",
    "print(x / y)\n",
    "print(x // y)"
   ]
  },
  {
   "cell_type": "code",
   "execution_count": 64,
   "metadata": {
    "collapsed": false
   },
   "outputs": [
    {
     "name": "stdout",
     "output_type": "stream",
     "text": [
      "True\n",
      "2\n",
      "[2, 3]\n",
      "11\n",
      "[9, 10]\n",
      "[2, 9]\n",
      "8\n",
      "1\n"
     ]
    }
   ],
   "source": [
    "# sequence 타입 의 연산자들\n",
    "x = 10\n",
    "s = [1,2,3,9,10,11, 12,13]\n",
    "\n",
    "print(x in s)\n",
    "print(s[1])\n",
    "print(s[1:3])\n",
    "print(s[-3])       # 음수 로 슬라이싱(slice)가져오기\n",
    "print(s[-5:-3])       # 음수 로 슬라이싱(slice)가져오기\n",
    "print(s[1:5:2])   # 요건 재미있슴. 1번부터 5번까지 2의 간격으로 원소를 가져온다고\n",
    "print(len(s))\n",
    "print(min(s))   # 가장 작은 원소"
   ]
  },
  {
   "cell_type": "markdown",
   "metadata": {},
   "source": [
    "공식 문서 \n",
    "\n",
    "https://docs.python.org/2/library/stdtypes.html#numeric-types-int-float-long-complex\n",
    "\n",
    "https://docs.python.org/2/library/stdtypes.html#sequence-types-str-unicode-list-tuple-bytearray-buffer-xrange\n",
    "\n",
    "https://docs.python.org/3/library/stdtypes.html#numeric-types-int-float-complex\n",
    "\n",
    "https://docs.python.org/3/library/stdtypes.html#common-sequence-operations"
   ]
  },
  {
   "cell_type": "code",
   "execution_count": 18,
   "metadata": {
    "collapsed": false
   },
   "outputs": [
    {
     "name": "stdout",
     "output_type": "stream",
     "text": [
      "문자열 출력은 이렇게 한다. 1도 안어렵다\n",
      "1 2\n"
     ]
    }
   ],
   "source": [
    "print(\"문자열 출력은 %s 한다. %d도 안어렵다\" % (\"이렇게\", 1))\n",
    "print(\"{0} {1}\".format(1,2,3))\n",
    "print(\"\")"
   ]
  },
  {
   "cell_type": "code",
   "execution_count": 17,
   "metadata": {
    "collapsed": false
   },
   "outputs": [
    {
     "name": "stdout",
     "output_type": "stream",
     "text": [
      "[        10]\n",
      "[10        ]\n"
     ]
    }
   ],
   "source": [
    "v = 10\n",
    "print(\"[%10d]\" % v)\n",
    "print(\"[%-10d]\" % v)"
   ]
  },
  {
   "cell_type": "code",
   "execution_count": null,
   "metadata": {
    "collapsed": true
   },
   "outputs": [],
   "source": []
  }
 ],
 "metadata": {
  "kernelspec": {
   "display_name": "Python 3",
   "language": "python",
   "name": "python3"
  },
  "language_info": {
   "codemirror_mode": {
    "name": "ipython",
    "version": 3
   },
   "file_extension": ".py",
   "mimetype": "text/x-python",
   "name": "python",
   "nbconvert_exporter": "python",
   "pygments_lexer": "ipython3",
   "version": "3.4.2"
  }
 },
 "nbformat": 4,
 "nbformat_minor": 0
}
