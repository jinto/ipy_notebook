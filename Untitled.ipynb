{
 "cells": [
  {
   "cell_type": "code",
   "execution_count": 1,
   "metadata": {
    "collapsed": false
   },
   "outputs": [
    {
     "data": {
      "text/plain": [
       "[<matplotlib.lines.Line2D at 0x10df43400>]"
      ]
     },
     "execution_count": 1,
     "metadata": {},
     "output_type": "execute_result"
    },
    {
     "data": {
      "image/png": "[encoded data removed]",
      "text/plain": [
       "<matplotlib.figure.Figure at 0x10c48a5c0>"
      ]
     },
     "metadata": {},
     "output_type": "display_data"
    }
   ],
   "source": [
    "%matplotlib inline\n",
    "import matplotlib.pyplot as plt\n",
    "vals = [3,2,5,0,1]\n",
    "plt.plot(vals)"
   ]
  },
  {
   "cell_type": "code",
   "execution_count": 9,
   "metadata": {
    "collapsed": false
   },
   "outputs": [
    {
     "data": {
      "text/plain": [
       "([<matplotlib.axis.XTick at 0x10e38e7b8>,\n",
       "  <matplotlib.axis.XTick at 0x10e387860>,\n",
       "  <matplotlib.axis.XTick at 0x10e3824e0>,\n",
       "  <matplotlib.axis.XTick at 0x10e47ed68>,\n",
       "  <matplotlib.axis.XTick at 0x10e4847b8>,\n",
       "  <matplotlib.axis.XTick at 0x10e486208>,\n",
       "  <matplotlib.axis.XTick at 0x10e486c18>,\n",
       "  <matplotlib.axis.XTick at 0x10e48a668>,\n",
       "  <matplotlib.axis.XTick at 0x10e48d0b8>,\n",
       "  <matplotlib.axis.XTick at 0x10e48dac8>],\n",
       " <a list of 10 Text xticklabel objects>)"
      ]
     },
     "execution_count": 9,
     "metadata": {},
     "output_type": "execute_result"
    },
    {
     "data": {
      "image/png": "[encoded data removed]",
      "text/plain": [
       "<matplotlib.figure.Figure at 0x10e3b45f8>"
      ]
     },
     "metadata": {},
     "output_type": "display_data"
    }
   ],
   "source": [
    "import numpy as np\n",
    "\n",
    "counts =  {\n",
    "    'Snow Belle': 63,\n",
    "    'Champion': 76,\n",
    "    'Cherry Belle': 58,\n",
    "    'Daikon': 63,\n",
    "    'French Breakfast': 72,\n",
    "    'Bunny Tail': 72,\n",
    "    'Sicily Giant': 57,\n",
    "    'Red King': 56,\n",
    "    'Plum Purple': 56,\n",
    "    'April Cross': 72\n",
    "}\n",
    "names = []\n",
    "votes = []\n",
    "# Split the dictionary of name:votes into two lists, one for names and one for vote count\n",
    "for radish in counts:\n",
    "    names.append(radish)\n",
    "    votes.append(counts[radish])\n",
    "\n",
    "# The X axis can just be numbered 0,1,2,3...\n",
    "x = np.arange(len(counts))\n",
    "\n",
    "plt.bar(x, votes)\n",
    "plt.xticks(x + 0.5, names, rotation=90)"
   ]
  },
  {
   "cell_type": "code",
   "execution_count": null,
   "metadata": {
    "collapsed": true
   },
   "outputs": [],
   "source": []
  },
  {
   "cell_type": "code",
   "execution_count": null,
   "metadata": {
    "collapsed": true
   },
   "outputs": [],
   "source": []
  }
 ],
 "metadata": {
  "kernelspec": {
   "display_name": "Python 3",
   "language": "python",
   "name": "python3"
  },
  "language_info": {
   "codemirror_mode": {
    "name": "ipython",
    "version": 3
   },
   "file_extension": ".py",
   "mimetype": "text/x-python",
   "name": "python",
   "nbconvert_exporter": "python",
   "pygments_lexer": "ipython3",
   "version": "3.4.2"
  }
 },
 "nbformat": 4,
 "nbformat_minor": 0
}
