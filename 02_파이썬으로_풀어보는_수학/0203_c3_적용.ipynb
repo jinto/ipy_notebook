{
 "cells": [
  {
   "cell_type": "markdown",
   "metadata": {},
   "source": [
    "여기있는 것은 깃헙에서는 렌더링안되고, 로컬에서 실행하던가, http://nbviewer.jupyter.org/github/jinto/study/blob/master/02_%ED%8C%8C%EC%9D%B4%EC%8D%AC%EC%9C%BC%EB%A1%9C_%ED%92%80%EC%96%B4%EB%B3%B4%EB%8A%94_%EC%88%98%ED%95%99/0203_c3_%EC%A0%81%EC%9A%A9.ipynb 에서 보면된다."
   ]
  },
  {
   "cell_type": "code",
   "execution_count": 11,
   "metadata": {
    "collapsed": false
   },
   "outputs": [
    {
     "data": {
      "text/html": [
       "<iframe srcdoc=\"\n",
       "            <!-- Load c3.css -->\n",
       "            <link href='https://cdnjs.cloudflare.com/ajax/libs/c3/0.4.10/c3.min.css' rel='stylesheet' type='text/css'/>\n",
       "\n",
       "            <!-- Load d3.js and c3.js -->\n",
       "            <script src='http://d3js.org/d3.v3.min.js' charset='utf-8'></script>\n",
       "            <script src='http://cdnjs.cloudflare.com/ajax/libs/c3/0.4.10/c3.min.js'></script>\n",
       "\n",
       "        \n",
       "            <div id=chart style='width: 100%; height: 100%'></div>\n",
       "            <script>\n",
       "                var chart = document.getElementById('chart');\n",
       "                var data = {\n",
       "    'data': {\n",
       "        'columns': [\n",
       "            [\n",
       "                '\\ucd5c\\uace0\\uae30\\uc628',\n",
       "                31,\n",
       "                29.6,\n",
       "                27.9,\n",
       "                27.8,\n",
       "                26.7,\n",
       "                26.5,\n",
       "                24.7,\n",
       "                23.2,\n",
       "                29.3,\n",
       "                27.4,\n",
       "                30.7,\n",
       "                28.6,\n",
       "                25.4,\n",
       "                31.3,\n",
       "                31.2,\n",
       "                27.9,\n",
       "                26.6\n",
       "            ],\n",
       "            [\n",
       "                '\\ucd5c\\uc800\\uae30\\uc628',\n",
       "                19.9,\n",
       "                21.4,\n",
       "                22.9,\n",
       "                20.2,\n",
       "                22,\n",
       "                21.6,\n",
       "                21.1,\n",
       "                19,\n",
       "                20.2,\n",
       "                20.7,\n",
       "                21.9,\n",
       "                22.2,\n",
       "                19.2,\n",
       "                23.9,\n",
       "                21.1,\n",
       "                21,\n",
       "                22\n",
       "            ],\n",
       "            [\n",
       "                '\\ud3c9\\uade0\\uae30\\uc628',\n",
       "                25.6,\n",
       "                25.1,\n",
       "                25,\n",
       "                23,\n",
       "                24,\n",
       "                23.8,\n",
       "                22.6,\n",
       "                19.8,\n",
       "                24.8,\n",
       "                23.5,\n",
       "                26.1,\n",
       "                25.1,\n",
       "                21.6,\n",
       "                27.1,\n",
       "                26,\n",
       "                23.7,\n",
       "                24\n",
       "            ]\n",
       "        ],\n",
       "        'types': {\n",
       "            '\\ucd5c\\uace0\\uae30\\uc628': 'area-spline',\n",
       "            '\\ucd5c\\uc800\\uae30\\uc628': 'area-spline',\n",
       "            '\\ud3c9\\uade0\\uae30\\uc628': 'area-spline'\n",
       "        },\n",
       "        'groups': [\n",
       "            [\n",
       "                '\\ucd5c\\uace0\\uae30\\uc628',\n",
       "                '\\ucd5c\\uc800\\uae30\\uc628',\n",
       "                '\\ud3c9\\uade0\\uae30\\uc628'\n",
       "            ]\n",
       "        ]\n",
       "    }\n",
       "};\n",
       "                data['bindto']='#chart'\n",
       "                c3.generate(data);\n",
       "            </script>\n",
       "        \" src=\"\" width=\"800\" height=\"420\" sandbox=\"allow-scripts\"></iframe>"
      ],
      "text/plain": [
       "<IPython.core.display.HTML object>"
      ]
     },
     "execution_count": 11,
     "metadata": {},
     "output_type": "execute_result"
    }
   ],
   "source": [
    "from iplotter import C3Plotter\n",
    "\n",
    "plotter = C3Plotter()\n",
    "\n",
    "chart = {\n",
    "    \"data\": {\n",
    "        \"columns\": [\n",
    "            ['최고기온', 31, 29.6, 27.9, 27.8, 26.7, 26.5, 24.7, 23.2, 29.3, 27.4, 30.7, 28.6, 25.4, 31.3, 31.2, 27.9, 26.6],\n",
    "            ['최저기온', 19.9, 21.4, 22.9, 20.2, 22, 21.6, 21.1, 19, 20.2, 20.7, 21.9, 22.2, 19.2, 23.9, 21.1, 21, 22],\n",
    "            ['평균기온', 25.6, 25.1, 25, 23, 24, 23.8, 22.6, 19.8, 24.8, 23.5, 26.1, 25.1, 21.6, 27.1, 26, 23.7, 24]\n",
    "        ],\n",
    "        \"types\": {\n",
    "            \"최고기온\": 'area-spline',\n",
    "            \"최저기온\": 'area-spline',\n",
    "            \"평균기온\": 'area-spline'\n",
    "        },\n",
    "        \"groups\": [['최고기온', '최저기온', '평균기온']]\n",
    "    }\n",
    "}\n",
    "\n",
    "plotter.plot(chart)"
   ]
  },
  {
   "cell_type": "code",
   "execution_count": null,
   "metadata": {
    "collapsed": true
   },
   "outputs": [],
   "source": []
  },
  {
   "cell_type": "code",
   "execution_count": null,
   "metadata": {
    "collapsed": true
   },
   "outputs": [],
   "source": []
  }
 ],
 "metadata": {
  "kernelspec": {
   "display_name": "Python 3",
   "language": "python",
   "name": "python3"
  },
  "language_info": {
   "codemirror_mode": {
    "name": "ipython",
    "version": 3
   },
   "file_extension": ".py",
   "mimetype": "text/x-python",
   "name": "python",
   "nbconvert_exporter": "python",
   "pygments_lexer": "ipython3",
   "version": "3.5.1"
  }
 },
 "nbformat": 4,
 "nbformat_minor": 0
}
