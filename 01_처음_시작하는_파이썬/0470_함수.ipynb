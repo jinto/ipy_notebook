{
 "cells": [
  {
   "cell_type": "markdown",
   "metadata": {
    "slideshow": {
     "slide_type": "-"
    }
   },
   "source": [
    "### 4.7 함수 "
   ]
  },
  {
   "cell_type": "markdown",
   "metadata": {},
   "source": [
    "### 유용한 None "
   ]
  },
  {
   "cell_type": "code",
   "execution_count": 1,
   "metadata": {
    "collapsed": false
   },
   "outputs": [
    {
     "name": "stdout",
     "output_type": "stream",
     "text": [
      "이쪽이 출력된다\n"
     ]
    }
   ],
   "source": [
    "nothing = None\n",
    "\n",
    "if nothing:\n",
    "    print(\"None 은 if 에서 False로 취급\")\n",
    "else:\n",
    "    print(\"이쪽이 출력된다\")"
   ]
  },
  {
   "cell_type": "code",
   "execution_count": 2,
   "metadata": {
    "collapsed": false
   },
   "outputs": [
    {
     "name": "stdout",
     "output_type": "stream",
     "text": [
      "None인지 확인할 때에는 is None을 쓰자\n"
     ]
    }
   ],
   "source": [
    "nothing = None\n",
    "\n",
    "if nothing is None:\n",
    "    print(\"None인지 확인할 때에는 is None을 쓰자\")"
   ]
  },
  {
   "cell_type": "markdown",
   "metadata": {
    "collapsed": true
   },
   "source": [
    "### 4.7.3 기본 인자값"
   ]
  },
  {
   "cell_type": "code",
   "execution_count": 11,
   "metadata": {
    "collapsed": false
   },
   "outputs": [
    {
     "name": "stdout",
     "output_type": "stream",
     "text": [
      "['a']\n",
      "['a', 'b']\n",
      "[1, 2, 3, 'c']\n",
      "['a', 'b', 'd']\n"
     ]
    }
   ],
   "source": [
    "# 디폴트 파라미터는 함수정의 시점에 계산된다.\n",
    "# 그리고, 그 값이 재사용 된다.\n",
    "\n",
    "def buggy(arg, result=[]):\n",
    "    result.append(arg)\n",
    "    print(result)\n",
    "    \n",
    "buggy('a')\n",
    "buggy('b')\n",
    "buggy('c', [1,2,3])\n",
    "buggy('d')"
   ]
  },
  {
   "cell_type": "code",
   "execution_count": 3,
   "metadata": {
    "collapsed": false
   },
   "outputs": [
    {
     "name": "stdout",
     "output_type": "stream",
     "text": [
      "['a']\n",
      "['b']\n",
      "[1, 2, 3, 'c']\n",
      "['d']\n"
     ]
    }
   ],
   "source": [
    "# 디폴트 파라미터에 컬렉션을 쓰고 싶다면, 이렇게 해야한다.\n",
    "\n",
    "def nonbuggy(arg, result=None):\n",
    "    if result is None:\n",
    "        result = []\n",
    "    result.append(arg)\n",
    "    print(result)\n",
    "    \n",
    "nonbuggy('a')\n",
    "nonbuggy('b')\n",
    "nonbuggy('c', [1,2,3])\n",
    "nonbuggy('d')"
   ]
  }
 ],
 "metadata": {
  "kernelspec": {
   "display_name": "Python 3",
   "language": "python",
   "name": "python3"
  },
  "language_info": {
   "codemirror_mode": {
    "name": "ipython",
    "version": 3
   },
   "file_extension": ".py",
   "mimetype": "text/x-python",
   "name": "python",
   "nbconvert_exporter": "python",
   "pygments_lexer": "ipython3",
   "version": "3.5.1"
  }
 },
 "nbformat": 4,
 "nbformat_minor": 0
}
