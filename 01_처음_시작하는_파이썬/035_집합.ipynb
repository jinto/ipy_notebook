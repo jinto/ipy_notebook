{
 "cells": [
  {
   "cell_type": "markdown",
   "metadata": {
    "slideshow": {
     "slide_type": "-"
    }
   },
   "source": [
    "## 3장 리스트, 튜플, 딕셔너리, 셋\n",
    "### 3.5 셋\n",
    "\n",
    "집합!!"
   ]
  },
  {
   "cell_type": "code",
   "execution_count": 1,
   "metadata": {
    "collapsed": false
   },
   "outputs": [
    {
     "name": "stdout",
     "output_type": "stream",
     "text": [
      "{8, 0, 2, 4, 6}\n",
      "{9, 3, 5, 1, 7}\n"
     ]
    }
   ],
   "source": [
    "empty_set = set()\n",
    "evens = {0 ,2, 4, 6, 8}\n",
    "odds = {1, 3, 5, 7, 9}\n",
    "\n",
    "print(evens)\n",
    "print(odds)"
   ]
  },
  {
   "cell_type": "code",
   "execution_count": 2,
   "metadata": {
    "collapsed": false
   },
   "outputs": [
    {
     "name": "stdout",
     "output_type": "stream",
     "text": [
      "{'원숭이'}\n",
      "{'원숭이'}\n"
     ]
    }
   ],
   "source": [
    "# 교집합\n",
    "\n",
    "a = {'고릴라', '원숭이'}\n",
    "b = {'원숭이', '침팬지'}\n",
    "\n",
    "print(a & b)\n",
    "print(a.intersection(b))"
   ]
  },
  {
   "cell_type": "code",
   "execution_count": 3,
   "metadata": {
    "collapsed": false
   },
   "outputs": [
    {
     "name": "stdout",
     "output_type": "stream",
     "text": [
      "{'침팬지', '고릴라', '원숭이'}\n",
      "{'침팬지', '고릴라', '원숭이'}\n"
     ]
    }
   ],
   "source": [
    "# 합집합\n",
    "\n",
    "a = {'고릴라', '원숭이'}\n",
    "b = {'원숭이', '침팬지'}\n",
    "\n",
    "print(a | b)\n",
    "print(a.union(b))"
   ]
  },
  {
   "cell_type": "code",
   "execution_count": 4,
   "metadata": {
    "collapsed": false
   },
   "outputs": [
    {
     "name": "stdout",
     "output_type": "stream",
     "text": [
      "{'고릴라'}\n",
      "{'고릴라'}\n"
     ]
    }
   ],
   "source": [
    "# 차집합\n",
    "\n",
    "a = {'고릴라', '원숭이'}\n",
    "b = {'원숭이', '침팬지'}\n",
    "\n",
    "print(a - b)\n",
    "print(a.difference(b))"
   ]
  },
  {
   "cell_type": "code",
   "execution_count": 5,
   "metadata": {
    "collapsed": false
   },
   "outputs": [
    {
     "name": "stdout",
     "output_type": "stream",
     "text": [
      "{'침팬지', '고릴라'}\n",
      "{'침팬지', '고릴라'}\n"
     ]
    }
   ],
   "source": [
    "# 대칭 차집합\n",
    "\n",
    "a = {'고릴라', '원숭이'}\n",
    "b = {'원숭이', '침팬지'}\n",
    "\n",
    "print(a ^ b)\n",
    "print(a.symmetric_difference(b))"
   ]
  },
  {
   "cell_type": "code",
   "execution_count": 6,
   "metadata": {
    "collapsed": false
   },
   "outputs": [
    {
     "name": "stdout",
     "output_type": "stream",
     "text": [
      "True\n",
      "True\n",
      "True\n"
     ]
    }
   ],
   "source": [
    "# 부분집합\n",
    "\n",
    "a = {'고릴라', '원숭이'}\n",
    "b = {'원숭이'}\n",
    "\n",
    "print(a >= b)\n",
    "print(b.issubset(a))\n",
    "print(a.issuperset(b))"
   ]
  },
  {
   "cell_type": "code",
   "execution_count": null,
   "metadata": {
    "collapsed": true
   },
   "outputs": [],
   "source": []
  }
 ],
 "metadata": {
  "kernelspec": {
   "display_name": "Python 3",
   "language": "python",
   "name": "python3"
  },
  "language_info": {
   "codemirror_mode": {
    "name": "ipython",
    "version": 3
   },
   "file_extension": ".py",
   "mimetype": "text/x-python",
   "name": "python",
   "nbconvert_exporter": "python",
   "pygments_lexer": "ipython3",
   "version": "3.5.1"
  }
 },
 "nbformat": 4,
 "nbformat_minor": 0
}
