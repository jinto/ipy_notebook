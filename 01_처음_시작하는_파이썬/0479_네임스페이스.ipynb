{
 "cells": [
  {
   "cell_type": "markdown",
   "metadata": {
    "slideshow": {
     "slide_type": "-"
    }
   },
   "source": [
    "### 4.10 네임스페이스\n",
    "\n",
    "책에서는 뭐라뭐라 설명해놨지만, 파이썬의 스코프는 아직도 이상하다."
   ]
  },
  {
   "cell_type": "code",
   "execution_count": 13,
   "metadata": {
    "collapsed": false
   },
   "outputs": [
    {
     "name": "stdout",
     "output_type": "stream",
     "text": [
      "===1===\n",
      "{}\n",
      "이 함수에는 로컬변수가 없다.\n",
      "===2===\n",
      "dog\n",
      "출력된 dog는 글로벌 변수인 animal의 내용이다.\n",
      "{}\n",
      "이 함수에도 로컬변수가 없다.\n",
      "===3===\n",
      "this is local variable\n",
      "{'animal': 'this is local variable'}\n",
      "이 함수에는 동일한 이름으로 정의된 로컬변수가 있다.\n",
      "===3===\n",
      "{}\n",
      "이 함수에도 로컬변수가 없다.\n",
      "this is global variable\n"
     ]
    }
   ],
   "source": [
    "animal = 'dog'\n",
    "\n",
    "\n",
    "def local_func1():\n",
    "    print(\"===1===\")\n",
    "    print(locals())\n",
    "    print(\"이 함수에는 로컬변수가 없다.\")\n",
    "\n",
    "\n",
    "def local_func2():\n",
    "    print(\"===2===\")\n",
    "    print(animal)\n",
    "    print(\"출력된 dog는 글로벌 변수인 animal의 내용이다.\")\n",
    "    print(locals())\n",
    "    print(\"이 함수에도 로컬변수가 없다.\")\n",
    "\n",
    "\n",
    "def local_func3():\n",
    "    animal = 'this is local variable'\n",
    "    print(\"===3===\")\n",
    "    print(animal)\n",
    "    print(locals())\n",
    "    print(\"이 함수에는 동일한 이름으로 정의된 로컬변수가 있다.\")\n",
    "\n",
    "\n",
    "def local_func4():\n",
    "    global animal\n",
    "    animal = 'this is global variable'    # 이건 글로벌\n",
    "    print(\"===3===\")\n",
    "    print(locals())\n",
    "    print(\"이 함수에도 로컬변수가 없다.\")\n",
    "\n",
    "\n",
    "local_func1()\n",
    "local_func2()\n",
    "local_func3()\n",
    "local_func4()\n",
    "\n",
    "print(animal)"
   ]
  },
  {
   "cell_type": "code",
   "execution_count": 17,
   "metadata": {
    "collapsed": false
   },
   "outputs": [
    {
     "name": "stdout",
     "output_type": "stream",
     "text": [
      "dog\n"
     ]
    },
    {
     "ename": "UnboundLocalError",
     "evalue": "local variable 'animal' referenced before assignment",
     "output_type": "error",
     "traceback": [
      "\u001b[0;31m---------------------------------------------------------------------------\u001b[0m",
      "\u001b[0;31mUnboundLocalError\u001b[0m                         Traceback (most recent call last)",
      "\u001b[0;32m<ipython-input-17-99c3efc076c6>\u001b[0m in \u001b[0;36m<module>\u001b[0;34m()\u001b[0m\n\u001b[1;32m     16\u001b[0m \u001b[0mlocal_func1\u001b[0m\u001b[0;34m(\u001b[0m\u001b[0;34m)\u001b[0m\u001b[0;34m\u001b[0m\u001b[0m\n\u001b[1;32m     17\u001b[0m \u001b[0mlocal_func2\u001b[0m\u001b[0;34m(\u001b[0m\u001b[0;34m)\u001b[0m\u001b[0;34m\u001b[0m\u001b[0m\n\u001b[0;32m---> 18\u001b[0;31m \u001b[0mlocal_func3\u001b[0m\u001b[0;34m(\u001b[0m\u001b[0;34m)\u001b[0m\u001b[0;34m\u001b[0m\u001b[0m\n\u001b[0m",
      "\u001b[0;32m<ipython-input-17-99c3efc076c6>\u001b[0m in \u001b[0;36mlocal_func3\u001b[0;34m()\u001b[0m\n\u001b[1;32m     10\u001b[0m \u001b[0;34m\u001b[0m\u001b[0m\n\u001b[1;32m     11\u001b[0m \u001b[0;32mdef\u001b[0m \u001b[0mlocal_func3\u001b[0m\u001b[0;34m(\u001b[0m\u001b[0;34m)\u001b[0m\u001b[0;34m:\u001b[0m    \u001b[0;31m# 오류가 난다.\u001b[0m\u001b[0;34m\u001b[0m\u001b[0m\n\u001b[0;32m---> 12\u001b[0;31m     \u001b[0mprint\u001b[0m\u001b[0;34m(\u001b[0m\u001b[0manimal\u001b[0m\u001b[0;34m)\u001b[0m\u001b[0;34m\u001b[0m\u001b[0m\n\u001b[0m\u001b[1;32m     13\u001b[0m     \u001b[0manimal\u001b[0m \u001b[0;34m=\u001b[0m \u001b[0;34m'cat'\u001b[0m\u001b[0;34m\u001b[0m\u001b[0m\n\u001b[1;32m     14\u001b[0m \u001b[0;34m\u001b[0m\u001b[0m\n",
      "\u001b[0;31mUnboundLocalError\u001b[0m: local variable 'animal' referenced before assignment"
     ]
    }
   ],
   "source": [
    "# 거슬리는 부분은 local_func3 에서 오류가 난다는 것.\n",
    "\n",
    "animal = 'dog'\n",
    "\n",
    "def local_func1():     # 이건 로컬 변수가 된다.\n",
    "    animal = 'cat'\n",
    "\n",
    "def local_func2():     # 이건 글로벌 변수다. 출력도 된다.\n",
    "    print(animal)\n",
    "\n",
    "def local_func3():    # 오류가 난다.\n",
    "    print(animal)\n",
    "    animal = 'cat'\n",
    "\n",
    "\n",
    "local_func1()\n",
    "local_func2()\n",
    "local_func3()"
   ]
  }
 ],
 "metadata": {
  "kernelspec": {
   "display_name": "Python 3",
   "language": "python",
   "name": "python3"
  },
  "language_info": {
   "codemirror_mode": {
    "name": "ipython",
    "version": 3
   },
   "file_extension": ".py",
   "mimetype": "text/x-python",
   "name": "python",
   "nbconvert_exporter": "python",
   "pygments_lexer": "ipython3",
   "version": "3.5.1"
  }
 },
 "nbformat": 4,
 "nbformat_minor": 0
}
