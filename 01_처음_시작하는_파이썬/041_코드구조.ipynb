{
 "cells": [
  {
   "cell_type": "markdown",
   "metadata": {
    "slideshow": {
     "slide_type": "-"
    }
   },
   "source": [
    "## 4장 코드 구조"
   ]
  },
  {
   "cell_type": "code",
   "execution_count": 3,
   "metadata": {
    "collapsed": false
   },
   "outputs": [
    {
     "data": {
      "text/plain": [
       "'\\nempty_list = list()\\nempty_list = []\\n\\nempty_dict = dict()\\nempty_set = set()\\n'"
      ]
     },
     "execution_count": 3,
     "metadata": {},
     "output_type": "execute_result"
    }
   ],
   "source": [
    "# 여러줄 코멘트가 없다.\n",
    "# 문자열 문법을 여러줄 코멘트 대용으로 쓸수있다.\n",
    "\n",
    "\"\"\"\n",
    "empty_list = list()\n",
    "empty_list = []\n",
    "\n",
    "empty_dict = dict()\n",
    "empty_set = set()\n",
    "\"\"\""
   ]
  },
  {
   "cell_type": "code",
   "execution_count": 5,
   "metadata": {
    "collapsed": false
   },
   "outputs": [
    {
     "name": "stdout",
     "output_type": "stream",
     "text": [
      "abcedfghijklmnopqrstuvwxyz\n"
     ]
    }
   ],
   "source": [
    "# 여러줄 코드는 백슬래시로 연결\n",
    "\n",
    "alphabet = 'abcedfg' + \\\n",
    "'hijklmnopqrstu' + \\\n",
    "'vwxyz'\n",
    "\n",
    "print(alphabet)"
   ]
  },
  {
   "cell_type": "code",
   "execution_count": 7,
   "metadata": {
    "collapsed": false
   },
   "outputs": [
    {
     "name": "stdout",
     "output_type": "stream",
     "text": [
      "3보다 크고 8보다 작다\n"
     ]
    }
   ],
   "source": [
    "# 조건문에서 여러번 비교를 할 수 있다.\n",
    "\n",
    "x = 5\n",
    "if 3 < x < 8:\n",
    "    print('3보다 크고 8보다 작다')"
   ]
  },
  {
   "cell_type": "code",
   "execution_count": 8,
   "metadata": {
    "collapsed": false
   },
   "outputs": [
    {
     "name": "stdout",
     "output_type": "stream",
     "text": [
      "empty\n"
     ]
    }
   ],
   "source": [
    "# 빈 컬렉션은 False 이다.\n",
    "\n",
    "poet = []\n",
    "\n",
    "if poet:\n",
    "    print('poet')\n",
    "else:\n",
    "    print('empty')"
   ]
  },
  {
   "cell_type": "markdown",
   "metadata": {},
   "source": [
    "### 4.4 while"
   ]
  },
  {
   "cell_type": "code",
   "execution_count": 17,
   "metadata": {
    "collapsed": false
   },
   "outputs": [
    {
     "name": "stdout",
     "output_type": "stream",
     "text": [
      "1 홀수다\n",
      "3 홀수다\n",
      "5 홀수다\n",
      "짝수가 없으면 여기까지 온다\n"
     ]
    }
   ],
   "source": [
    "# while 문내의 break 문이 실행되지 않으면 else 가 실행된다.\n",
    "\n",
    "nums = [1, 3, 5]\n",
    "idx = 0\n",
    "\n",
    "while idx < len(nums):\n",
    "    num = nums[idx]\n",
    "    idx += 1\n",
    "    if num % 2 == 0:\n",
    "        print(num, '짝수다!')\n",
    "        break\n",
    "    if num % 1 == 0:\n",
    "        print(num, '홀수다')\n",
    "        continue\n",
    "    print(\"이거는 안찍힌다\")\n",
    "else:\n",
    "    print(\"짝수가 없으면 여기까지 온다\")\n",
    "    "
   ]
  },
  {
   "cell_type": "markdown",
   "metadata": {},
   "source": [
    "### 4.5 for"
   ]
  },
  {
   "cell_type": "code",
   "execution_count": 10,
   "metadata": {
    "collapsed": false
   },
   "outputs": [
    {
     "name": "stdout",
     "output_type": "stream",
     "text": [
      "1\n",
      "3\n",
      "5\n",
      "1\n",
      "3\n",
      "5\n"
     ]
    }
   ],
   "source": [
    "# 같은 문장인데 for 쪽이 이쁘다.\n",
    "\n",
    "nums = [1, 3, 5]\n",
    "idx = 0\n",
    "\n",
    "while idx < len(nums):\n",
    "    num = nums[idx]\n",
    "    print(num)\n",
    "    idx += 1\n",
    "\n",
    "for num in nums:\n",
    "    print(num)"
   ]
  },
  {
   "cell_type": "code",
   "execution_count": 12,
   "metadata": {
    "collapsed": false
   },
   "outputs": [
    {
     "name": "stdout",
     "output_type": "stream",
     "text": [
      "김영랑\n",
      "정지용\n",
      "윤동주\n",
      "모란이 피기까지는\n",
      "향수\n",
      "서시\n",
      "김영랑 의  모란이 피기까지는\n",
      "정지용 의  향수\n",
      "윤동주 의  서시\n"
     ]
    }
   ],
   "source": [
    "dic = {'윤동주':'서시', '정지용':'향수', '김영랑':'모란이 피기까지는'}\n",
    "\n",
    "for poet in dic.keys():\n",
    "    print(poet)\n",
    "    \n",
    "for poem in dic.values():\n",
    "    print(poem)\n",
    "    \n",
    "for poet, poem in dic.items():\n",
    "    print(poet, '의 ', poem)"
   ]
  },
  {
   "cell_type": "code",
   "execution_count": 13,
   "metadata": {
    "collapsed": false
   },
   "outputs": [
    {
     "name": "stdout",
     "output_type": "stream",
     "text": [
      "이육사님이 빠졌다!\n"
     ]
    }
   ],
   "source": [
    "# for 문의 else \n",
    "\n",
    "poets = {'윤동주', '정지용', '김영랑'}\n",
    "\n",
    "for poet in poets:\n",
    "    if poet == '이육사':\n",
    "        break\n",
    "else:\n",
    "    print(\"이육사님이 빠졌다!\")"
   ]
  },
  {
   "cell_type": "code",
   "execution_count": 14,
   "metadata": {
    "collapsed": false
   },
   "outputs": [
    {
     "name": "stdout",
     "output_type": "stream",
     "text": [
      "정지용님은 있다!\n"
     ]
    }
   ],
   "source": [
    "# for 문 안쓰고 이렇게 하면 더 간단하지만..\n",
    "\n",
    "if '정지용' in poets:\n",
    "    print('정지용님은 있다!')"
   ]
  }
 ],
 "metadata": {
  "kernelspec": {
   "display_name": "Python 3",
   "language": "python",
   "name": "python3"
  },
  "language_info": {
   "codemirror_mode": {
    "name": "ipython",
    "version": 3
   },
   "file_extension": ".py",
   "mimetype": "text/x-python",
   "name": "python",
   "nbconvert_exporter": "python",
   "pygments_lexer": "ipython3",
   "version": "3.5.1"
  }
 },
 "nbformat": 4,
 "nbformat_minor": 0
}
