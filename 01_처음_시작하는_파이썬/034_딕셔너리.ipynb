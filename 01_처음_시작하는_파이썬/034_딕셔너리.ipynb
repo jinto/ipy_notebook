{
 "cells": [
  {
   "cell_type": "markdown",
   "metadata": {
    "slideshow": {
     "slide_type": "-"
    }
   },
   "source": [
    "# 처음 시작하는 파이썬\n",
    "한빛미디어 \n",
    "(Introducing Python 번역)\n",
    "\n",
    "전부는 아니고, 읽다가 적어두고 싶은 것만 적어둔다."
   ]
  },
  {
   "cell_type": "markdown",
   "metadata": {
    "slideshow": {
     "slide_type": "-"
    }
   },
   "source": [
    "## 3장 리스트, 튜플, 딕셔너리, 셋\n",
    "### 3.4 딕셔너리"
   ]
  },
  {
   "cell_type": "code",
   "execution_count": 23,
   "metadata": {
    "collapsed": false
   },
   "outputs": [
    {
     "name": "stdout",
     "output_type": "stream",
     "text": [
      "{'c': 'd', 'e': 'f', 'a': 'b'}\n",
      "{'c': 'd', 'e': 'f', 'a': 'b'}\n"
     ]
    }
   ],
   "source": [
    "# dict() 함수로 여러가지 컬렉션을 딕셔너리로 만들 수 있다.\n",
    "\n",
    "lol = [['a', 'b'], ['c', 'd'], ['e', 'f']]\n",
    "d1 = dict(lol)\n",
    "\n",
    "lol = (['a', 'b'], ['c', 'd'], ['e', 'f'])\n",
    "d2 = dict(lol)\n",
    "\n",
    "lol = ('ab', 'c', 'd'], ['e', 'f'])\n",
    "d2 = dict(lol)\n",
    "\n",
    "\n",
    "print(d1)\n",
    "print(d2)"
   ]
  },
  {
   "cell_type": "code",
   "execution_count": 5,
   "metadata": {
    "collapsed": false
   },
   "outputs": [
    {
     "name": "stdout",
     "output_type": "stream",
     "text": [
      "{'first': 'cocoa', 'third': 'juice', 'second': 'coffee'}\n"
     ]
    }
   ],
   "source": [
    "# update() 로 합친다.\n",
    "\n",
    "a = {'first':'cocoa', 'second':'coffee'}\n",
    "b = {'third':'juice'}\n",
    "\n",
    "a.update(b)\n",
    "print(a)"
   ]
  },
  {
   "cell_type": "code",
   "execution_count": 6,
   "metadata": {
    "collapsed": false
   },
   "outputs": [
    {
     "name": "stdout",
     "output_type": "stream",
     "text": [
      "{'first': 'cocoa', 'second': 'coffee'}\n"
     ]
    }
   ],
   "source": [
    "# del 로 항목을 삭제한다.\n",
    "\n",
    "del a['third']\n",
    "print(a)"
   ]
  },
  {
   "cell_type": "code",
   "execution_count": 10,
   "metadata": {
    "collapsed": false
   },
   "outputs": [
    {
     "name": "stdout",
     "output_type": "stream",
     "text": [
      "True\n",
      "False\n"
     ]
    }
   ],
   "source": [
    "# in 으로 \"키\" 가 존재하는지 알 수 있다.\n",
    "\n",
    "print('first' in a)\n",
    "print('cocoa' in a)"
   ]
  },
  {
   "cell_type": "markdown",
   "metadata": {},
   "source": [
    "### 3.4.8 딕셔너리의 아이템 얻기\n",
    "\n",
    "지정된 키가 있는지 확신 할 수 없을 때"
   ]
  },
  {
   "cell_type": "code",
   "execution_count": 11,
   "metadata": {
    "collapsed": false
   },
   "outputs": [
    {
     "ename": "KeyError",
     "evalue": "'fourth'",
     "output_type": "error",
     "traceback": [
      "\u001b[0;31m---------------------------------------------------------------------------\u001b[0m",
      "\u001b[0;31mKeyError\u001b[0m                                  Traceback (most recent call last)",
      "\u001b[0;32m<ipython-input-11-4324f5947f6e>\u001b[0m in \u001b[0;36m<module>\u001b[0;34m()\u001b[0m\n\u001b[1;32m      1\u001b[0m \u001b[0;31m# 키가 있는지 확신 할 수 없을 때\u001b[0m\u001b[0;34m\u001b[0m\u001b[0;34m\u001b[0m\u001b[0m\n\u001b[1;32m      2\u001b[0m \u001b[0;34m\u001b[0m\u001b[0m\n\u001b[0;32m----> 3\u001b[0;31m \u001b[0ma\u001b[0m\u001b[0;34m[\u001b[0m\u001b[0;34m'fourth'\u001b[0m\u001b[0;34m]\u001b[0m\u001b[0;34m\u001b[0m\u001b[0m\n\u001b[0m",
      "\u001b[0;31mKeyError\u001b[0m: 'fourth'"
     ]
    }
   ],
   "source": [
    "a['fourth']                    # 없으면 오류가 발생한다"
   ]
  },
  {
   "cell_type": "code",
   "execution_count": 14,
   "metadata": {
    "collapsed": false
   },
   "outputs": [
    {
     "data": {
      "text/plain": [
       "'beer'"
      ]
     },
     "execution_count": 14,
     "metadata": {},
     "output_type": "execute_result"
    }
   ],
   "source": [
    "a.get('fourth')\n",
    "a.get('fourth', 'beer')        # 없다면 기본값을 주세요"
   ]
  },
  {
   "cell_type": "code",
   "execution_count": 27,
   "metadata": {
    "collapsed": false
   },
   "outputs": [
    {
     "name": "stdout",
     "output_type": "stream",
     "text": [
      "dict_keys(['first', 'second'])\n",
      "dict_values(['cocoa', 'coffee'])\n",
      "dict_items([('first', 'cocoa'), ('second', 'coffee')])\n"
     ]
    }
   ],
   "source": [
    "# keys()가 리턴하는 \"dict_keys\"는 iteration 이 가능한 녀석이다.\n",
    "# 즉, 메모리에 몽땅 올라가지 않을 수 있다.\n",
    "\n",
    "k = a.keys()\n",
    "v = a.values()\n",
    "i = a.items()\n",
    "\n",
    "print(k)\n",
    "print(v)\n",
    "print(i)"
   ]
  },
  {
   "cell_type": "code",
   "execution_count": 24,
   "metadata": {
    "collapsed": false
   },
   "outputs": [
    {
     "data": {
      "text/plain": [
       "['first', 'second']"
      ]
     },
     "execution_count": 24,
     "metadata": {},
     "output_type": "execute_result"
    }
   ],
   "source": [
    "# 리스트로 바꿀 수 있다.\n",
    "\n",
    "list(a.keys()) "
   ]
  },
  {
   "cell_type": "code",
   "execution_count": 2,
   "metadata": {
    "collapsed": false
   },
   "outputs": [
    {
     "name": "stdout",
     "output_type": "stream",
     "text": [
      "{'first': 'tea', 'second': 'coffee', 'third': 'juice'}\n",
      "{'first': 'tea', 'second': 'coffee', 'third': 'juice'}\n",
      "{'first': 'cocoa', 'second': 'coffee', 'third': 'juice'}\n"
     ]
    }
   ],
   "source": [
    "# 복사할때는 deep copy 인지 아닌지 잘 생각하자.\n",
    "a = {'first': 'cocoa', 'second': 'coffee', 'third': 'juice'}\n",
    "b = a\n",
    "c = a.copy()\n",
    "a['first'] = 'tea'\n",
    "print(a)\n",
    "print(b)\n",
    "print(c)"
   ]
  },
  {
   "cell_type": "code",
   "execution_count": null,
   "metadata": {
    "collapsed": true
   },
   "outputs": [],
   "source": []
  }
 ],
 "metadata": {
  "kernelspec": {
   "display_name": "Python 3",
   "language": "python",
   "name": "python3"
  },
  "language_info": {
   "codemirror_mode": {
    "name": "ipython",
    "version": 3
   },
   "file_extension": ".py",
   "mimetype": "text/x-python",
   "name": "python",
   "nbconvert_exporter": "python",
   "pygments_lexer": "ipython3",
   "version": "3.5.1"
  }
 },
 "nbformat": 4,
 "nbformat_minor": 0
}
