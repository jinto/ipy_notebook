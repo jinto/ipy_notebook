{
 "cells": [
  {
   "cell_type": "markdown",
   "metadata": {
    "slideshow": {
     "slide_type": "-"
    }
   },
   "source": [
    "## 3장 리스트, 튜플, 딕셔너리, 셋\n",
    "### 3.1 리스트와 튜플\n",
    "\n",
    "리스트는 [], 튜플은 (), 그리고 컴마(,) \n",
    "\n",
    "리스트는 변경가능, 튜플은 변경불가능"
   ]
  },
  {
   "cell_type": "code",
   "execution_count": 2,
   "metadata": {
    "collapsed": true
   },
   "outputs": [],
   "source": [
    "# 리스트, 딕셔너리, 셋\n",
    "\n",
    "empty_list = list()\n",
    "empty_list = []    # 둘은 같다.\n",
    "\n",
    "empty_dict = dict()\n",
    "empty_set = set()"
   ]
  },
  {
   "cell_type": "code",
   "execution_count": 3,
   "metadata": {
    "collapsed": false
   },
   "outputs": [
    {
     "data": {
      "text/plain": [
       "['c', 'a', 't']"
      ]
     },
     "execution_count": 3,
     "metadata": {},
     "output_type": "execute_result"
    }
   ],
   "source": [
    "# 문자열을 리스트로\n",
    "\n",
    "list('cat')"
   ]
  },
  {
   "cell_type": "code",
   "execution_count": 7,
   "metadata": {
    "collapsed": false
   },
   "outputs": [
    {
     "data": {
      "text/plain": [
       "['하나', '둘', '셋']"
      ]
     },
     "execution_count": 7,
     "metadata": {},
     "output_type": "execute_result"
    }
   ],
   "source": [
    "a_tuple = ('하나','둘','셋')  # 이것은 튜플\n",
    "list(a_tuple)               # 리스트로 변환"
   ]
  },
  {
   "cell_type": "code",
   "execution_count": 19,
   "metadata": {
    "collapsed": false
   },
   "outputs": [
    {
     "name": "stdout",
     "output_type": "stream",
     "text": [
      "['윤동주', '정지용', '김영랑']\n"
     ]
    }
   ],
   "source": [
    "# 리스트 끝에 추가하기\n",
    "\n",
    "poet = ['윤동주', '정지용']\n",
    "poet.append('김영랑')                   # 리스트에 추가\n",
    "print(poet)"
   ]
  },
  {
   "cell_type": "code",
   "execution_count": 5,
   "metadata": {
    "collapsed": false
   },
   "outputs": [
    {
     "name": "stdout",
     "output_type": "stream",
     "text": [
      "['윤동주', '정지용', '김영랑', '박목월', '조지훈', '박두진']\n"
     ]
    }
   ],
   "source": [
    "# 리스트 병합하기\n",
    "\n",
    "poet = ['윤동주', '정지용', '김영랑']\n",
    "poet_green = ['박목월','조지훈','박두진']  # 청록파\n",
    "poet.extend(poet_green)\n",
    "\n",
    "print(poet)"
   ]
  },
  {
   "cell_type": "code",
   "execution_count": 6,
   "metadata": {
    "collapsed": false
   },
   "outputs": [
    {
     "name": "stdout",
     "output_type": "stream",
     "text": [
      "['윤동주', '정지용', '김영랑', '박목월', '조지훈', '박두진']\n"
     ]
    }
   ],
   "source": [
    "poet = ['윤동주', '정지용', '김영랑']\n",
    "poet_green = ['박목월','조지훈','박두진']  # 청록파\n",
    "poet += poet_green\n",
    "\n",
    "print(poet)"
   ]
  },
  {
   "cell_type": "code",
   "execution_count": 22,
   "metadata": {
    "collapsed": false
   },
   "outputs": [
    {
     "name": "stdout",
     "output_type": "stream",
     "text": [
      "['윤동주', '정지용', '김영랑', ['박목월', '조지훈', '박두진']]\n"
     ]
    }
   ],
   "source": [
    "poet = ['윤동주', '정지용', '김영랑']\n",
    "poet_green = ['박목월','조지훈','박두진']  # 청록파\n",
    "poet.append(poet_green)               # 이렇게하면... 리스트안에 리스트가 된다.\n",
    "\n",
    "print(poet)"
   ]
  },
  {
   "cell_type": "markdown",
   "metadata": {},
   "source": [
    "### 3.2.9 삽입"
   ]
  },
  {
   "cell_type": "code",
   "execution_count": 26,
   "metadata": {
    "collapsed": false
   },
   "outputs": [
    {
     "name": "stdout",
     "output_type": "stream",
     "text": [
      "['윤동주', '정지용', '김소월', '김영랑']\n"
     ]
    }
   ],
   "source": [
    "poet = ['윤동주', '정지용', '김영랑']\n",
    "poet.insert(2, '김소월')\n",
    "print(poet)"
   ]
  },
  {
   "cell_type": "markdown",
   "metadata": {},
   "source": [
    "### 3.2.10 오프셋으로 삭제 del"
   ]
  },
  {
   "cell_type": "code",
   "execution_count": 68,
   "metadata": {
    "collapsed": false
   },
   "outputs": [
    {
     "name": "stdout",
     "output_type": "stream",
     "text": [
      "['윤동주', '정지용', '김영랑', '김소월']\n"
     ]
    }
   ],
   "source": [
    "poet = ['윤동주', '정지용', '김영랑', '김소월', '이육사']\n",
    "del poet[-1]\n",
    "print(poet)"
   ]
  },
  {
   "cell_type": "markdown",
   "metadata": {},
   "source": [
    "### 3.2.11 기타 리스트 함수들"
   ]
  },
  {
   "cell_type": "code",
   "execution_count": 69,
   "metadata": {
    "collapsed": false
   },
   "outputs": [
    {
     "name": "stdout",
     "output_type": "stream",
     "text": [
      "['윤동주', '정지용', '김소월']\n"
     ]
    }
   ],
   "source": [
    "# 시인 목록에서 '김영랑'을 삭제하기\n",
    "\n",
    "poet.remove('김영랑')                               # 값으로 삭제\n",
    "\n",
    "print(poet)"
   ]
  },
  {
   "cell_type": "code",
   "execution_count": 70,
   "metadata": {
    "collapsed": false
   },
   "outputs": [
    {
     "name": "stdout",
     "output_type": "stream",
     "text": [
      "이육사 ['윤동주', '정지용', '김영랑', '김소월']\n"
     ]
    }
   ],
   "source": [
    "# 시인 목록에서 맨 뒤의 것을 꺼내고, 목록에서 삭제하기\n",
    "\n",
    "poet = ['윤동주', '정지용', '김영랑', '김소월', '이육사']\n",
    "poped = poet.pop()                                 # 꺼내기\n",
    "\n",
    "print(poped, poet)"
   ]
  },
  {
   "cell_type": "code",
   "execution_count": 72,
   "metadata": {
    "collapsed": false
   },
   "outputs": [
    {
     "name": "stdout",
     "output_type": "stream",
     "text": [
      "2 True\n"
     ]
    }
   ],
   "source": [
    "a = poet.index('김영랑')                           # 시인 목록에서 '김영랑'의 위치 찾기\n",
    "\n",
    "b = '윤동주' in poet                               # 시인 목록에 '윤동주'가 있는지 알아보기\n",
    "\n",
    "print(a,b)"
   ]
  },
  {
   "cell_type": "code",
   "execution_count": 66,
   "metadata": {
    "collapsed": false
   },
   "outputs": [
    {
     "data": {
      "text/plain": [
       "3"
      ]
     },
     "execution_count": 66,
     "metadata": {},
     "output_type": "execute_result"
    }
   ],
   "source": [
    "poet = ['윤동주', '정지용', '윤동주', '윤동주']\n",
    "poet.count('윤동주')"
   ]
  },
  {
   "cell_type": "markdown",
   "metadata": {},
   "source": [
    "### 3.2.16 문자열로 변환하기\n",
    "\n",
    "join() 함수는 호출할때 poet.join() 이 아니라 \", \".join(poet) 이라고 호출해야 한다. 조금 이상하다."
   ]
  },
  {
   "cell_type": "code",
   "execution_count": 75,
   "metadata": {
    "collapsed": false
   },
   "outputs": [
    {
     "data": {
      "text/plain": [
       "'윤동주, 정지용, 김영랑, 김소월'"
      ]
     },
     "execution_count": 75,
     "metadata": {},
     "output_type": "execute_result"
    }
   ],
   "source": [
    "\", \".join(poet)"
   ]
  },
  {
   "cell_type": "markdown",
   "metadata": {},
   "source": [
    "### 3.2.17 정렬하기\n",
    "\n",
    "```sort()  는 리스트를 정렬하고, sorted() 는 정렬한 복사본을 준다.```"
   ]
  },
  {
   "cell_type": "code",
   "execution_count": 80,
   "metadata": {
    "collapsed": false
   },
   "outputs": [
    {
     "name": "stdout",
     "output_type": "stream",
     "text": [
      "['김소월', '김영랑', '윤동주', '정지용']\n",
      "['정지용', '윤동주', '김영랑', '김소월']\n"
     ]
    }
   ],
   "source": [
    "poet.sort()\n",
    "print(poet)\n",
    "\n",
    "poet.sort(reverse=True)\n",
    "print(poet)"
   ]
  },
  {
   "cell_type": "markdown",
   "metadata": {},
   "source": [
    "### 3.2.19 할당/복사\n",
    "\n",
    "```\"=\" 을 사용하면 복사본이 생성되지 않는다.\n",
    "copy(), list()를 호출하거나 slice[:] 를 하면 복사본이 생성된다.```"
   ]
  },
  {
   "cell_type": "code",
   "execution_count": 83,
   "metadata": {
    "collapsed": false
   },
   "outputs": [
    {
     "name": "stdout",
     "output_type": "stream",
     "text": [
      "[10, 1, 1] [10, 1, 1] [1, 1, 1] [1, 1, 1] [1, 1, 1]\n"
     ]
    }
   ],
   "source": [
    "a = [1,1,1]\n",
    "b = a\n",
    "c = a.copy()\n",
    "d = list(a)\n",
    "e = a[:]\n",
    "a[0] = 10\n",
    "print(a,b,c,d,e)"
   ]
  }
 ],
 "metadata": {
  "kernelspec": {
   "display_name": "Python 3",
   "language": "python",
   "name": "python3"
  },
  "language_info": {
   "codemirror_mode": {
    "name": "ipython",
    "version": 3
   },
   "file_extension": ".py",
   "mimetype": "text/x-python",
   "name": "python",
   "nbconvert_exporter": "python",
   "pygments_lexer": "ipython3",
   "version": "3.5.1"
  }
 },
 "nbformat": 4,
 "nbformat_minor": 0
}
