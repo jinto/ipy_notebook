{
 "cells": [
  {
   "cell_type": "markdown",
   "metadata": {
    "slideshow": {
     "slide_type": "-"
    }
   },
   "source": [
    "# 처음 시작하는 파이썬\n",
    "한빛미디어 \n",
    "(Introducing Python 번역)\n",
    "\n",
    "전부는 아니고, 읽다가 적어두고 싶은 것만 적어둔다."
   ]
  },
  {
   "cell_type": "markdown",
   "metadata": {
    "slideshow": {
     "slide_type": "-"
    }
   },
   "source": [
    "## 4장 파이 크러스트: 코드 구조\n",
    "### 4.5.4 zip"
   ]
  },
  {
   "cell_type": "code",
   "execution_count": 3,
   "metadata": {
    "collapsed": false
   },
   "outputs": [
    {
     "name": "stdout",
     "output_type": "stream",
     "text": [
      "월요일 사과 커피\n",
      "화요일 자몽 홍차\n",
      "수요일 바나나 밀크티\n",
      "목요일 포도 우유\n",
      "금요일 망고 핫초코\n",
      "토요일 배 사이다\n",
      "일요일 두리안 콜라\n"
     ]
    }
   ],
   "source": [
    "# 모아서 iterate\n",
    "\n",
    "days = ['월요일','화요일','수요일','목요일','금요일','토요일','일요일']\n",
    "drinks = ['커피', '홍차','밀크티','우유', '핫초코','사이다','콜라','이_음료는_나오지_않는다.']  # 다른 넘들이 7개라서 8번째는 나오지 않는다.\n",
    "fruits = ['사과', '자몽','바나나','포도', '망고',  '배',   '두리안']\n",
    "\n",
    "for day, drink, fruit in zip(days, fruits, drinks):\n",
    "    print(day, drink, fruit)\n"
   ]
  },
  {
   "cell_type": "code",
   "execution_count": 5,
   "metadata": {
    "collapsed": false
   },
   "outputs": [
    {
     "data": {
      "text/plain": [
       "{'사과': 'リンゴ', '사람': 'ひと', '커피': 'コーヒー'}"
      ]
     },
     "execution_count": 5,
     "metadata": {},
     "output_type": "execute_result"
    }
   ],
   "source": [
    "# 간이 사전 만들기\n",
    "\n",
    "ko = '사람','사과', '커피'\n",
    "jp = 'ひと','リンゴ','コーヒー'\n",
    "dict(zip(ko,jp))"
   ]
  },
  {
   "cell_type": "markdown",
   "metadata": {},
   "source": [
    "### 4.5.4 range()\n"
   ]
  },
  {
   "cell_type": "code",
   "execution_count": 15,
   "metadata": {
    "collapsed": false
   },
   "outputs": [
    {
     "name": "stdout",
     "output_type": "stream",
     "text": [
      "0\n",
      "1\n",
      "2\n",
      "=====\n",
      "4\n",
      "2\n",
      "0\n",
      "-2\n"
     ]
    }
   ],
   "source": [
    "# iterable 을 리턴한다.\n",
    "\n",
    "for x in range(0,3):       # 3의 직전까지\n",
    "    print(x)"
   ]
  },
  {
   "cell_type": "code",
   "execution_count": 16,
   "metadata": {
    "collapsed": false
   },
   "outputs": [
    {
     "name": "stdout",
     "output_type": "stream",
     "text": [
      "4\n",
      "2\n",
      "0\n",
      "-2\n"
     ]
    }
   ],
   "source": [
    "for x in range(4, -4, -2):   # -4 의 직전까지.\n",
    "    print(x)"
   ]
  },
  {
   "cell_type": "code",
   "execution_count": 19,
   "metadata": {
    "collapsed": false
   },
   "outputs": [
    {
     "data": {
      "text/plain": [
       "[0, 2, 4, 6, 8, 10]"
      ]
     },
     "execution_count": 19,
     "metadata": {},
     "output_type": "execute_result"
    }
   ],
   "source": [
    "# 0에서 10까지 짝수\n",
    "\n",
    "list(range(0, 11, 2))"
   ]
  }
 ],
 "metadata": {
  "kernelspec": {
   "display_name": "Python 3",
   "language": "python",
   "name": "python3"
  },
  "language_info": {
   "codemirror_mode": {
    "name": "ipython",
    "version": 3
   },
   "file_extension": ".py",
   "mimetype": "text/x-python",
   "name": "python",
   "nbconvert_exporter": "python",
   "pygments_lexer": "ipython3",
   "version": "3.5.1"
  }
 },
 "nbformat": 4,
 "nbformat_minor": 0
}
