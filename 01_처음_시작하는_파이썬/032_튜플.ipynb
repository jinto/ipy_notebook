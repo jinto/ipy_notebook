{
 "cells": [
  {
   "cell_type": "markdown",
   "metadata": {
    "slideshow": {
     "slide_type": "-"
    }
   },
   "source": [
    "# 처음 시작하는 파이썬\n",
    "한빛미디어 \n",
    "(Introducing Python 번역)\n",
    "\n",
    "전부는 아니고, 읽다가 적어두고 싶은 것만 적어둔다."
   ]
  },
  {
   "cell_type": "markdown",
   "metadata": {
    "slideshow": {
     "slide_type": "-"
    }
   },
   "source": [
    "## 3장 리스트, 튜플, 딕셔너리, 셋\n",
    "### 3.3 튜플\n",
    "\n",
    "리스트는 [...], 튜플은 (...), 그리고, \n",
    "\n",
    "리스트는 변경가능, 튜플은 변경불가능"
   ]
  },
  {
   "cell_type": "code",
   "execution_count": 1,
   "metadata": {
    "collapsed": true
   },
   "outputs": [],
   "source": [
    "empty_list = list()\n",
    "empty_list = []    # 둘은 같다.\n",
    "\n",
    "empty_dict = dict()\n",
    "empty_set = set()\n",
    "\n",
    "empty_tuple = ()"
   ]
  },
  {
   "cell_type": "code",
   "execution_count": 10,
   "metadata": {
    "collapsed": false
   },
   "outputs": [
    {
     "name": "stdout",
     "output_type": "stream",
     "text": [
      "('하나',)\n",
      "('하나', '둘', '셋')\n",
      "('하나', '둘', '셋')\n"
     ]
    }
   ],
   "source": [
    "a_tuple = '하나', # 이렇게 해도 튜플이 된다\n",
    "print(a_tuple)\n",
    "\n",
    "other_tuple = '하나', '둘', '셋' # 이렇게 해도 튜플이 된다\n",
    "print(other_tuple)\n",
    "\n",
    "the_tuple = ('하나', '둘', '셋') # 이게 보기 편하다\n",
    "print(the_tuple)"
   ]
  },
  {
   "cell_type": "code",
   "execution_count": 13,
   "metadata": {
    "collapsed": false
   },
   "outputs": [
    {
     "name": "stdout",
     "output_type": "stream",
     "text": [
      "하나 둘 셋\n"
     ]
    }
   ],
   "source": [
    "a, b, c = the_tuple            # 이것을 튜플 언패킹 (tuple unpacking) 이라고 부른다\n",
    "print(a,b,c)"
   ]
  },
  {
   "cell_type": "code",
   "execution_count": 15,
   "metadata": {
    "collapsed": false
   },
   "outputs": [
    {
     "name": "stdout",
     "output_type": "stream",
     "text": [
      "2 1\n"
     ]
    }
   ],
   "source": [
    "a = 1\n",
    "b = 2\n",
    "a, b = b, a                    # 여기에서 b,a 도 튜플이란다..\n",
    "print(a,b)"
   ]
  },
  {
   "cell_type": "code",
   "execution_count": 17,
   "metadata": {
    "collapsed": false
   },
   "outputs": [
    {
     "data": {
      "text/plain": [
       "('윤동주', '정지용', '김영랑', '김소월', '이육사')"
      ]
     },
     "execution_count": 17,
     "metadata": {},
     "output_type": "execute_result"
    }
   ],
   "source": [
    "# 리스트에서 튜플 만들기\n",
    "\n",
    "poet = ['윤동주', '정지용', '김영랑', '김소월', '이육사']\n",
    "tuple(poet)"
   ]
  },
  {
   "cell_type": "code",
   "execution_count": null,
   "metadata": {
    "collapsed": true
   },
   "outputs": [],
   "source": []
  }
 ],
 "metadata": {
  "kernelspec": {
   "display_name": "Python 3",
   "language": "python",
   "name": "python3"
  },
  "language_info": {
   "codemirror_mode": {
    "name": "ipython",
    "version": 3
   },
   "file_extension": ".py",
   "mimetype": "text/x-python",
   "name": "python",
   "nbconvert_exporter": "python",
   "pygments_lexer": "ipython3",
   "version": "3.5.1"
  }
 },
 "nbformat": 4,
 "nbformat_minor": 0
}
