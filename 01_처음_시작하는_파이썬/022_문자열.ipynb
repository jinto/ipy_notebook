{
 "cells": [
  {
   "cell_type": "markdown",
   "metadata": {},
   "source": [
    "## 2.3 문자열\n",
    "### 2.3.1 인용 부호로 문자열 생성\n",
    "\n",
    "다른 스크립트들과 비슷하다. \n",
    "\n",
    "* 문자열이랑 부동소숫점이랑 변환할때 조금 특이하다.\n",
    "* print()에서 여러개 인자주기가 된다.\n",
    "* 문자열의 슬라이스[::]가 자주 사용되는 문법이다."
   ]
  },
  {
   "cell_type": "code",
   "execution_count": 13,
   "metadata": {
    "collapsed": false
   },
   "outputs": [
    {
     "data": {
      "text/plain": [
       "'작은 따옴표로 둘러싼 문자열 안쪽에서는 \"큰 따옴표\"를 마음대로 쓸 수 있다.'"
      ]
     },
     "execution_count": 13,
     "metadata": {},
     "output_type": "execute_result"
    }
   ],
   "source": [
    "'작은 따옴표로 둘러싼 문자열 안쪽에서는 \"큰 따옴표\"를 마음대로 쓸 수 있다.'"
   ]
  },
  {
   "cell_type": "code",
   "execution_count": 14,
   "metadata": {
    "collapsed": false
   },
   "outputs": [
    {
     "name": "stdout",
     "output_type": "stream",
     "text": [
      "작은 따옴표나 큰 따옴표 세개로 문자열을 만들 수 있다.\n",
      "그 안쪽에서는 '작은 따옴표'나 \"큰 따옴표\"를 마음대로 쓸 수 있게된다.\n"
     ]
    }
   ],
   "source": [
    "s = '''작은 따옴표나 큰 따옴표 세개로 문자열을 만들 수 있다.\n",
    "그 안쪽에서는 '작은 따옴표'나 \"큰 따옴표\"를 마음대로 쓸 수 있게된다.'''\n",
    "\n",
    "print(s)"
   ]
  },
  {
   "cell_type": "markdown",
   "metadata": {
    "collapsed": false
   },
   "source": [
    "### 2.3.2 데이터 타입 변환"
   ]
  },
  {
   "cell_type": "code",
   "execution_count": 1,
   "metadata": {
    "collapsed": false
   },
   "outputs": [
    {
     "data": {
      "text/plain": [
       "'98.6'"
      ]
     },
     "execution_count": 1,
     "metadata": {},
     "output_type": "execute_result"
    }
   ],
   "source": [
    "str(98.6)"
   ]
  },
  {
   "cell_type": "code",
   "execution_count": 2,
   "metadata": {
    "collapsed": false
   },
   "outputs": [
    {
     "data": {
      "text/plain": [
       "'10000.0'"
      ]
     },
     "execution_count": 2,
     "metadata": {},
     "output_type": "execute_result"
    }
   ],
   "source": [
    "str(1.0e4)"
   ]
  },
  {
   "cell_type": "code",
   "execution_count": 16,
   "metadata": {
    "collapsed": false
   },
   "outputs": [
    {
     "data": {
      "text/plain": [
       "'True'"
      ]
     },
     "execution_count": 16,
     "metadata": {},
     "output_type": "execute_result"
    }
   ],
   "source": [
    "str(True)"
   ]
  },
  {
   "cell_type": "markdown",
   "metadata": {},
   "source": [
    "### 2.3.4 결합"
   ]
  },
  {
   "cell_type": "code",
   "execution_count": 1,
   "metadata": {
    "collapsed": false
   },
   "outputs": [
    {
     "data": {
      "text/plain": [
       "'문자열을 더하면 합쳐진다'"
      ]
     },
     "execution_count": 1,
     "metadata": {},
     "output_type": "execute_result"
    }
   ],
   "source": [
    "'문자열을 '+'더하면 합쳐진다'"
   ]
  },
  {
   "cell_type": "code",
   "execution_count": 17,
   "metadata": {
    "collapsed": false
   },
   "outputs": [
    {
     "data": {
      "text/plain": [
       "'문자열을 그냥 연달아 써도 합쳐진다'"
      ]
     },
     "execution_count": 17,
     "metadata": {},
     "output_type": "execute_result"
    }
   ],
   "source": [
    "'문자열을 ' '그냥 연달아 써도 합쳐진다'"
   ]
  },
  {
   "cell_type": "code",
   "execution_count": 2,
   "metadata": {
    "collapsed": false
   },
   "outputs": [
    {
     "name": "stdout",
     "output_type": "stream",
     "text": [
      "제권아, 안녕~\n"
     ]
    }
   ],
   "source": [
    "# 여러개의 인자를 print() 에 전달하면 인자 사이에 공백을 붙여준다.\n",
    "\n",
    "a = \"제권아,\"\n",
    "b = \"안녕~\"\n",
    "print(a, b)"
   ]
  },
  {
   "cell_type": "markdown",
   "metadata": {},
   "source": [
    "### 2.3.5 복제하기"
   ]
  },
  {
   "cell_type": "code",
   "execution_count": 18,
   "metadata": {
    "collapsed": false
   },
   "outputs": [
    {
     "name": "stdout",
     "output_type": "stream",
     "text": [
      "나나나 나나나나 나나나나 헤이주드\n"
     ]
    }
   ],
   "source": [
    "s = '나' * 3\n",
    "m = '나' * 4\n",
    "e = '헤이주드'\n",
    "print(s, m, m, e)"
   ]
  },
  {
   "cell_type": "markdown",
   "metadata": {
    "collapsed": true
   },
   "source": [
    "### 2.3.6 추출\n",
    "\n",
    "문자열은 변경불가다.\n",
    "\n",
    "replace()를 사용하거나, 슬라이스해야한다."
   ]
  },
  {
   "cell_type": "code",
   "execution_count": 19,
   "metadata": {
    "collapsed": false
   },
   "outputs": [
    {
     "ename": "TypeError",
     "evalue": "'str' object does not support item assignment",
     "output_type": "error",
     "traceback": [
      "\u001b[0;31m---------------------------------------------------------------------------\u001b[0m",
      "\u001b[0;31mTypeError\u001b[0m                                 Traceback (most recent call last)",
      "\u001b[0;32m<ipython-input-19-1b5f1f91bcb4>\u001b[0m in \u001b[0;36m<module>\u001b[0;34m()\u001b[0m\n\u001b[1;32m      1\u001b[0m \u001b[0mname\u001b[0m \u001b[0;34m=\u001b[0m \u001b[0;34m'박제권'\u001b[0m\u001b[0;34m\u001b[0m\u001b[0m\n\u001b[0;32m----> 2\u001b[0;31m \u001b[0mname\u001b[0m\u001b[0;34m[\u001b[0m\u001b[0;36m0\u001b[0m\u001b[0;34m]\u001b[0m \u001b[0;34m=\u001b[0m \u001b[0;34m'김'\u001b[0m \u001b[0;31m# 여기에서 오류발생\u001b[0m\u001b[0;34m\u001b[0m\u001b[0m\n\u001b[0m",
      "\u001b[0;31mTypeError\u001b[0m: 'str' object does not support item assignment"
     ]
    }
   ],
   "source": [
    "name = '박제권'\n",
    "name[0] = '김' # 여기에서 오류발생"
   ]
  },
  {
   "cell_type": "code",
   "execution_count": 4,
   "metadata": {
    "collapsed": false
   },
   "outputs": [
    {
     "data": {
      "text/plain": [
       "'박제권'"
      ]
     },
     "execution_count": 4,
     "metadata": {},
     "output_type": "execute_result"
    }
   ],
   "source": [
    "name = '김제권'\n",
    "name.replace('김','박')"
   ]
  },
  {
   "cell_type": "code",
   "execution_count": 20,
   "metadata": {
    "collapsed": false
   },
   "outputs": [
    {
     "data": {
      "text/plain": [
       "'박제권'"
      ]
     },
     "execution_count": 20,
     "metadata": {},
     "output_type": "execute_result"
    }
   ],
   "source": [
    "'박'+name[1:]"
   ]
  },
  {
   "cell_type": "markdown",
   "metadata": {},
   "source": [
    "### 2.3.7 슬라이스 [start:end:step]"
   ]
  },
  {
   "cell_type": "code",
   "execution_count": 23,
   "metadata": {
    "collapsed": false
   },
   "outputs": [
    {
     "name": "stdout",
     "output_type": "stream",
     "text": [
      "a\n",
      "z\n",
      "ehknqt\n",
      "afkpu\n"
     ]
    }
   ],
   "source": [
    "alphabet = 'abcdefghijklmnopqrstuvwxyz'\n",
    "print(alphabet[0])\n",
    "print(alphabet[-1])\n",
    "print(alphabet[4:20:3]) # 4번째에서 20번째까지 3개씩 건너뛰면서\n",
    "print(alphabet[:21:5]) # 처음부터 21 번째까지 5개씩 건너뛰면서"
   ]
  },
  {
   "cell_type": "code",
   "execution_count": 14,
   "metadata": {
    "collapsed": false
   },
   "outputs": [
    {
     "data": {
      "text/plain": [
       "'zyxwvutsrqponmlkjihgfedcba'"
      ]
     },
     "execution_count": 14,
     "metadata": {},
     "output_type": "execute_result"
    }
   ],
   "source": [
    "alphabet[::-1] # 거꾸로"
   ]
  },
  {
   "cell_type": "code",
   "execution_count": 19,
   "metadata": {
    "collapsed": false
   },
   "outputs": [
    {
     "data": {
      "text/plain": [
       "'abcdefghijklmnopqrstuvwxyz'"
      ]
     },
     "execution_count": 19,
     "metadata": {},
     "output_type": "execute_result"
    }
   ],
   "source": [
    "alphabet[-51:] # 끝에서 51번째 문자열에서 끝까지 "
   ]
  },
  {
   "cell_type": "code",
   "execution_count": 21,
   "metadata": {
    "collapsed": false
   },
   "outputs": [
    {
     "data": {
      "text/plain": [
       "''"
      ]
     },
     "execution_count": 21,
     "metadata": {},
     "output_type": "execute_result"
    }
   ],
   "source": [
    "alphabet[-51:-50] # 범위를 넘어섰는디.. (끝에서 51번째에서 끝에서 51번째까지다)"
   ]
  },
  {
   "cell_type": "code",
   "execution_count": 22,
   "metadata": {
    "collapsed": false
   },
   "outputs": [
    {
     "data": {
      "text/plain": [
       "'abcdefghijklmnopqrstuvwxyz'"
      ]
     },
     "execution_count": 22,
     "metadata": {},
     "output_type": "execute_result"
    }
   ],
   "source": [
    "alphabet[:70] # 처음부터 69번째까지 "
   ]
  },
  {
   "cell_type": "markdown",
   "metadata": {},
   "source": [
    "### 2.3.9 문자열 나누기"
   ]
  },
  {
   "cell_type": "code",
   "execution_count": 23,
   "metadata": {
    "collapsed": false
   },
   "outputs": [
    {
     "data": {
      "text/plain": [
       "['파마하기', ' 영희한테 전화하기', ' 은행가기']"
      ]
     },
     "execution_count": 23,
     "metadata": {},
     "output_type": "execute_result"
    }
   ],
   "source": [
    "todos = \"파마하기, 영희한테 전화하기, 은행가기\"\n",
    "todos.split(',')"
   ]
  },
  {
   "cell_type": "code",
   "execution_count": 24,
   "metadata": {
    "collapsed": false
   },
   "outputs": [
    {
     "data": {
      "text/plain": [
       "['파마하기,', '영희한테', '전화하기,', '은행가기']"
      ]
     },
     "execution_count": 24,
     "metadata": {},
     "output_type": "execute_result"
    }
   ],
   "source": [
    "todos.split()"
   ]
  },
  {
   "cell_type": "markdown",
   "metadata": {},
   "source": [
    "### 2.3.10 합쳐서 문자열 만들기\n",
    "\n",
    "join() 함수는 \"문자열\".join() 으로 호출한다."
   ]
  },
  {
   "cell_type": "code",
   "execution_count": 28,
   "metadata": {
    "collapsed": false
   },
   "outputs": [
    {
     "name": "stdout",
     "output_type": "stream",
     "text": [
      "호랑이, 여우, 인간 전체\n"
     ]
    }
   ],
   "source": [
    "things = ['호랑이', '여우', '인간 전체']\n",
    "things_string = ', '.join(things)\n",
    "print(things_string)"
   ]
  },
  {
   "cell_type": "markdown",
   "metadata": {},
   "source": [
    "### 2.3.11 문자열 다루기\n",
    "startswith(), endswith(), find() 같은 것들이 있다."
   ]
  },
  {
   "cell_type": "code",
   "execution_count": 25,
   "metadata": {
    "collapsed": true
   },
   "outputs": [],
   "source": [
    "poem = \"\"\"창(窓) 밖에 밤비가 속살거려\n",
    "육첩방(六疊房)은 남의 나라,\n",
    "\n",
    "시인(詩人)이란 슬픈 천명(天命)인 줄 알면서도\n",
    "한 줄 시(詩)를 적어 볼까.\n",
    "\n",
    "땀내와 사랑내 포근히 품긴\n",
    "보내주신 학비(學費) 봉투(封套)를 받아\n",
    "\n",
    "대학(大學) 노―트를 끼고\n",
    "늙은 교수(敎授)의 강의(講義) 들으러 간다.\"\"\""
   ]
  },
  {
   "cell_type": "code",
   "execution_count": 30,
   "metadata": {
    "collapsed": false
   },
   "outputs": [
    {
     "name": "stdout",
     "output_type": "stream",
     "text": [
      "True\n",
      "False\n",
      "35\n",
      "66\n",
      "66\n",
      "2\n"
     ]
    }
   ],
   "source": [
    "print(poem.startswith('창'))\n",
    "print(poem.endswith('간디'))\n",
    "print(poem.find('시'))   # \"시\"가 처음 등장하는 위치는?\n",
    "print(poem.find('시', 36)) # 35번 글자 이후에 등장하는 \"시\" 의 위치는?\n",
    "print(poem.rfind('시')) # 마지막으로 \"시\"라는 글자가 나오는 위치는?\n",
    "print(poem.count('시')) # \"시\"라는 글자는 몇번이나 등장하는가?"
   ]
  },
  {
   "cell_type": "code",
   "execution_count": 3,
   "metadata": {
    "collapsed": false
   },
   "outputs": [
    {
     "data": {
      "text/plain": [
       "'호호'"
      ]
     },
     "execution_count": 3,
     "metadata": {},
     "output_type": "execute_result"
    }
   ],
   "source": [
    "s = \"하하호호하하하\"\n",
    "s.strip('하하')"
   ]
  },
  {
   "cell_type": "code",
   "execution_count": 12,
   "metadata": {
    "collapsed": false
   },
   "outputs": [
    {
     "name": "stdout",
     "output_type": "stream",
     "text": [
      "Jinto was a average boy\n",
      "Jinto Was A Average Boy\n",
      "jinto w!s ! !ver!ge boy\n",
      "jinto w!s ! average boy\n"
     ]
    }
   ],
   "source": [
    "s = \"jinto was a average boy\"\n",
    "print(s.capitalize())\n",
    "print(s.title())\n",
    "print(s.replace('a', '!'))\n",
    "print(s.replace('a', '!', 2))  # 두개만 치환"
   ]
  },
  {
   "cell_type": "code",
   "execution_count": 8,
   "metadata": {
    "collapsed": false
   },
   "outputs": [
    {
     "name": "stdout",
     "output_type": "stream",
     "text": [
      "       jinto was a boy        \n",
      "jinto was a boy               \n",
      "               jinto was a boy\n"
     ]
    }
   ],
   "source": [
    "print(s.center(30))\n",
    "print(s.ljust(30))\n",
    "print(s.rjust(30))"
   ]
  }
 ],
 "metadata": {
  "kernelspec": {
   "display_name": "Python 3",
   "language": "python",
   "name": "python3"
  },
  "language_info": {
   "codemirror_mode": {
    "name": "ipython",
    "version": 3
   },
   "file_extension": ".py",
   "mimetype": "text/x-python",
   "name": "python",
   "nbconvert_exporter": "python",
   "pygments_lexer": "ipython3",
   "version": "3.5.1"
  }
 },
 "nbformat": 4,
 "nbformat_minor": 0
}
