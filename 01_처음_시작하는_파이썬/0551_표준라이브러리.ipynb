{
 "cells": [
  {
   "cell_type": "markdown",
   "metadata": {
    "slideshow": {
     "slide_type": "-"
    }
   },
   "source": [
    "# 처음 시작하는 파이썬\n",
    "한빛미디어 \n",
    "(Introducing Python 번역)\n",
    "\n",
    "전부는 아니고, 읽다가 적어두고 싶은 것만 적어둔다."
   ]
  },
  {
   "cell_type": "markdown",
   "metadata": {
    "slideshow": {
     "slide_type": "-"
    }
   },
   "source": [
    "## 5장 파이썬 표준 라이브러리\n",
    "### 5.5.1 setdefault()\n",
    "\n",
    "dict.get()은 키가 없는 경우 지정된 값을 리턴.\n",
    "\n",
    "dict.setdefault()는 값이 없는 경우 키 생성해서 dict 를 수정해줌."
   ]
  },
  {
   "cell_type": "code",
   "execution_count": 7,
   "metadata": {
    "collapsed": false
   },
   "outputs": [
    {
     "name": "stdout",
     "output_type": "stream",
     "text": [
      "{'b': 2, 'a': 1}\n",
      "3\n",
      "{'b': 2, 'a': 1}\n",
      "4\n",
      "{'b': 2, 'c': 4, 'a': 1}\n"
     ]
    }
   ],
   "source": [
    "dic = {'a': 1, 'b': 2}\n",
    "print(dic)\n",
    "c = dic.get('c', 3)\n",
    "print(c)\n",
    "print(dic)\n",
    "c = dic.setdefault('c', 4)  # 이때 'c'가 추가된다.\n",
    "print(c)\n",
    "\n",
    "print(dic)"
   ]
  },
  {
   "cell_type": "code",
   "execution_count": 22,
   "metadata": {
    "collapsed": false
   },
   "outputs": [
    {
     "name": "stdout",
     "output_type": "stream",
     "text": [
      "0\n",
      "defaultdict(<class 'int'>, {'aa': 1})\n",
      "defaultdict(<class 'int'>, {'aa': 1, 'bb': 0})\n",
      "defaultdict(<function hi at 0x10333a730>, {'안녕?': 'hi~'})\n",
      "defaultdict(<function <lambda> at 0x10332cd08>, {'잘지내?': '그래요'})\n"
     ]
    }
   ],
   "source": [
    "# int() 함수는 0을 리턴하는 함수다.\n",
    "zero = int()\n",
    "print(zero)\n",
    "\n",
    "# 아래 함수는 함수를 인자로 받는다.\n",
    "from collections import defaultdict\n",
    "dic = defaultdict(int)\n",
    "\n",
    "#이제 dic 은 키가 없는 경우 기본값이 0이다.\n",
    "\n",
    "dic['aa'] = 1\n",
    "print(dic)\n",
    "\n",
    "dic['bb']\n",
    "print(dic)\n",
    "\n",
    "\n",
    "# 내가 함수 만들어서 넣어도 된다.\n",
    "def hi():\n",
    "    return 'hi~'\n",
    "\n",
    "dic = defaultdict(hi)\n",
    "dic['안녕?']\n",
    "print(dic)\n",
    "\n",
    "# 람다도 된다.\n",
    "dic = defaultdict(lambda: '그래요')\n",
    "dic['잘지내?']\n",
    "print(dic)"
   ]
  },
  {
   "cell_type": "code",
   "execution_count": null,
   "metadata": {
    "collapsed": true
   },
   "outputs": [],
   "source": []
  }
 ],
 "metadata": {
  "kernelspec": {
   "display_name": "Python 3",
   "language": "python",
   "name": "python3"
  },
  "language_info": {
   "codemirror_mode": {
    "name": "ipython",
    "version": 3
   },
   "file_extension": ".py",
   "mimetype": "text/x-python",
   "name": "python",
   "nbconvert_exporter": "python",
   "pygments_lexer": "ipython3",
   "version": "3.5.1"
  }
 },
 "nbformat": 4,
 "nbformat_minor": 0
}
