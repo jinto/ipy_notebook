{
 "cells": [
  {
   "cell_type": "markdown",
   "metadata": {
    "slideshow": {
     "slide_type": "-"
    }
   },
   "source": [
    "### 4.7.7 함수는 기본객체\n",
    "\n",
    "first class citizen"
   ]
  },
  {
   "cell_type": "code",
   "execution_count": 2,
   "metadata": {
    "collapsed": false
   },
   "outputs": [
    {
     "name": "stdout",
     "output_type": "stream",
     "text": [
      "6\n"
     ]
    }
   ],
   "source": [
    "def sum_args(*args):\n",
    "    return sum(args)\n",
    "\n",
    "\n",
    "# runner 는 \"함수\"를 인자로 받는다.\n",
    "\n",
    "def runner(func, *args):\n",
    "    return func(*args)\n",
    "\n",
    "# runner에 \"sum_args\" 함수를 인자로 주었다.\n",
    "\n",
    "print(runner(sum_args, 1,2,3))"
   ]
  },
  {
   "cell_type": "markdown",
   "metadata": {},
   "source": [
    "### 4.7.9 클로저\n",
    "내부함수는 클로저로 사용가능."
   ]
  },
  {
   "cell_type": "code",
   "execution_count": 3,
   "metadata": {
    "collapsed": false
   },
   "outputs": [
    {
     "name": "stdout",
     "output_type": "stream",
     "text": [
      "우리는 '주인님~'이라고 말하는 로봇이다\n",
      "우리는 '안녕~'이라고 말하는 로봇이다\n"
     ]
    }
   ],
   "source": [
    "# inner 함수는 전달받은 saying을 기억하고 있다.\n",
    "\n",
    "def robot(saying):\n",
    "    def inner():\n",
    "        return \"우리는 '%s'이라고 말하는 로봇이다\" % saying\n",
    "    return inner\n",
    "\n",
    "a = robot('주인님~')\n",
    "b = robot('안녕~')\n",
    "\n",
    "aa = a()   # a 는 함수다. 문자열이 아니다.\n",
    "bb = b()\n",
    "\n",
    "print(aa)\n",
    "print(bb)"
   ]
  }
 ],
 "metadata": {
  "kernelspec": {
   "display_name": "Python 3",
   "language": "python",
   "name": "python3"
  },
  "language_info": {
   "codemirror_mode": {
    "name": "ipython",
    "version": 3
   },
   "file_extension": ".py",
   "mimetype": "text/x-python",
   "name": "python",
   "nbconvert_exporter": "python",
   "pygments_lexer": "ipython3",
   "version": "3.5.1"
  }
 },
 "nbformat": 4,
 "nbformat_minor": 0
}
