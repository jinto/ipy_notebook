{
 "cells": [
  {
   "cell_type": "markdown",
   "metadata": {
    "slideshow": {
     "slide_type": "-"
    }
   },
   "source": [
    "### 4.7.4 다중인자"
   ]
  },
  {
   "cell_type": "code",
   "execution_count": 1,
   "metadata": {
    "collapsed": false
   },
   "outputs": [
    {
     "name": "stdout",
     "output_type": "stream",
     "text": [
      "args arg: ('haha', 1, 2, 3, 'hoho')\n"
     ]
    }
   ],
   "source": [
    "def print_multi(*args):\n",
    "    print(\"args arg:\", args)\n",
    "\n",
    "print_multi(\"haha\", 1, 2, 3, \"hoho\")"
   ]
  },
  {
   "cell_type": "markdown",
   "metadata": {
    "collapsed": true
   },
   "source": [
    "### 4.7.5 딕셔너리 인자"
   ]
  },
  {
   "cell_type": "code",
   "execution_count": 2,
   "metadata": {
    "collapsed": false
   },
   "outputs": [
    {
     "name": "stdout",
     "output_type": "stream",
     "text": [
      "args arg: {'test2': 1, 'test': 'haha'}\n"
     ]
    }
   ],
   "source": [
    "# named parameter 처럼 호출하고, dict로 쓴다.\n",
    "\n",
    "def print_multi2(**kwargs):\n",
    "    print(\"args arg:\", kwargs)\n",
    "\n",
    "print_multi2(test=\"haha\", test2=1)"
   ]
  }
 ],
 "metadata": {
  "kernelspec": {
   "display_name": "Python 3",
   "language": "python",
   "name": "python3"
  },
  "language_info": {
   "codemirror_mode": {
    "name": "ipython",
    "version": 3
   },
   "file_extension": ".py",
   "mimetype": "text/x-python",
   "name": "python",
   "nbconvert_exporter": "python",
   "pygments_lexer": "ipython3",
   "version": "3.5.1"
  }
 },
 "nbformat": 4,
 "nbformat_minor": 0
}
