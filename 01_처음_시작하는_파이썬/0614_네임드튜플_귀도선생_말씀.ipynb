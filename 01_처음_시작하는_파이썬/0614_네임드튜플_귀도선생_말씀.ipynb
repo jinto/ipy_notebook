{
 "cells": [
  {
   "cell_type": "markdown",
   "metadata": {},
   "source": [
    "### 6.14.1 네임드 튜플\n",
    "\n",
    "귀도반로썸왈 : __\"객체보다 튜플이 더 낫다(네임드 튜플을 써보라). getter/setter 보다 필드가 낫다. ... 기본 데이터 타입들은 우리 친구다. 숫자, 문자열, 튜플, 리스트, 셋, 딕셔너리를 사용하라. 또한 데크와 같은 컬렉션 라이브러리를 활용하라.\"__"
   ]
  },
  {
   "cell_type": "code",
   "execution_count": 1,
   "metadata": {
    "collapsed": false
   },
   "outputs": [
    {
     "name": "stdout",
     "output_type": "stream",
     "text": [
      "Person(name='박제권', email='jjj@jj.com')\n",
      "jjj@jj.com\n",
      "Person(name='박영호', email='hhh@hhh.com')\n",
      "박영호\n"
     ]
    }
   ],
   "source": [
    "from collections import namedtuple\n",
    "\n",
    "\n",
    "Person = namedtuple('Person', 'name email')    # 사람에게 , 이름/이메일 필드를 주자.\n",
    "p = Person('박제권', 'jjj@jj.com')               # 생성하면서 인자를 전달.\n",
    "\n",
    "print(p)\n",
    "print(p.email)                                 # 이렇게 접근할 수 있다.\n",
    "\n",
    "dic = {'name': '박영호', 'email': 'hhh@hhh.com'} # name-value를 줄 수도..\n",
    "p = Person(**dic)\n",
    "# same as (name='박영호', email='hhh@hhh.com')\n",
    "\n",
    "print(p)\n",
    "print(p.name)"
   ]
  }
 ],
 "metadata": {
  "kernelspec": {
   "display_name": "Python 3",
   "language": "python",
   "name": "python3"
  },
  "language_info": {
   "codemirror_mode": {
    "name": "ipython",
    "version": 3
   },
   "file_extension": ".py",
   "mimetype": "text/x-python",
   "name": "python",
   "nbconvert_exporter": "python",
   "pygments_lexer": "ipython3",
   "version": "3.5.1"
  }
 },
 "nbformat": 4,
 "nbformat_minor": 0
}
