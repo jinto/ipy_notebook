{
 "cells": [
  {
   "cell_type": "markdown",
   "metadata": {
    "slideshow": {
     "slide_type": "-"
    }
   },
   "source": [
    "## 4장 파이 크러스트: 코드 구조\n",
    "### 4.6.4 제너레이터 컴프리헨션 \n",
    "\n",
    "예제만 봐서는 쓸데가 없을 듯 하지만, 필요한 경우가 있을 것도 같다."
   ]
  },
  {
   "cell_type": "code",
   "execution_count": 1,
   "metadata": {
    "collapsed": false
   },
   "outputs": [
    {
     "name": "stdout",
     "output_type": "stream",
     "text": [
      "<generator object <genexpr> at 0x1057a6728>\n",
      "1\n",
      "2\n",
      "3\n",
      "4\n",
      "5\n"
     ]
    }
   ],
   "source": [
    "# 제너레이터\n",
    "\n",
    "num_gen = (num for num in range(1,6))\n",
    "\n",
    "print(num_gen)\n",
    "\n",
    "# 제너레이트 !!!!\n",
    "\n",
    "for num in num_gen:\n",
    "    print(num)\n",
    "\n",
    "    \n",
    "# 제너레이터는 한번만 제너레이트한다.\n",
    "\n",
    "for num in num_gen:\n",
    "    print(num)"
   ]
  }
 ],
 "metadata": {
  "kernelspec": {
   "display_name": "Python 3",
   "language": "python",
   "name": "python3"
  },
  "language_info": {
   "codemirror_mode": {
    "name": "ipython",
    "version": 3
   },
   "file_extension": ".py",
   "mimetype": "text/x-python",
   "name": "python",
   "nbconvert_exporter": "python",
   "pygments_lexer": "ipython3",
   "version": "3.5.1"
  }
 },
 "nbformat": 4,
 "nbformat_minor": 0
}
