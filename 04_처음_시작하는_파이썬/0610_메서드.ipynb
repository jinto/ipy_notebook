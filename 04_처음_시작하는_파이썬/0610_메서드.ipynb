{
 "cells": [
  {
   "cell_type": "markdown",
   "metadata": {},
   "source": [
    "### 6.10 메서드의 종류\n"
   ]
  },
  {
   "cell_type": "code",
   "execution_count": 5,
   "metadata": {
    "collapsed": false
   },
   "outputs": [
    {
     "name": "stdout",
     "output_type": "stream",
     "text": [
      "A 는 모두  3 개 있다.\n"
     ]
    }
   ],
   "source": [
    "class A():\n",
    "    count = 0        # 이건 클래스 변수다.\n",
    "    def __init__(self):\n",
    "        A.count += 1\n",
    "    \n",
    "    @classmethod\n",
    "    def kids(cls):\n",
    "        print(\"A 는 모두 \", cls.count, \"개 있다.\")\n",
    "        \n",
    "    @staticmethod \n",
    "    def func():\n",
    "        print(\"스태틱 메서드는 그냥 네임스페이스로 묶는 경우를 위해 있는 것 같다.\")\n",
    "        \n",
    "a1 = A()\n",
    "a2 = A()\n",
    "a3 = A()\n",
    "A.kids()"
   ]
  },
  {
   "cell_type": "markdown",
   "metadata": {},
   "source": [
    "### 6.12 특수메서드"
   ]
  },
  {
   "cell_type": "code",
   "execution_count": 7,
   "metadata": {
    "collapsed": true
   },
   "outputs": [],
   "source": [
    "## TODO 요기는... Fluent Python 에 아주 잘 나와있다.\n",
    "# 나중에 시간나면 베껴둘까..."
   ]
  },
  {
   "cell_type": "code",
   "execution_count": null,
   "metadata": {
    "collapsed": true
   },
   "outputs": [],
   "source": []
  }
 ],
 "metadata": {
  "kernelspec": {
   "display_name": "Python 3",
   "language": "python",
   "name": "python3"
  },
  "language_info": {
   "codemirror_mode": {
    "name": "ipython",
    "version": 3
   },
   "file_extension": ".py",
   "mimetype": "text/x-python",
   "name": "python",
   "nbconvert_exporter": "python",
   "pygments_lexer": "ipython3",
   "version": "3.5.1"
  }
 },
 "nbformat": 4,
 "nbformat_minor": 0
}
