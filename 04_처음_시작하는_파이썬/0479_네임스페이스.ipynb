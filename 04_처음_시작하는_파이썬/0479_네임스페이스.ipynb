{
 "cells": [
  {
   "cell_type": "markdown",
   "metadata": {
    "slideshow": {
     "slide_type": "-"
    }
   },
   "source": [
    "# 처음 시작하는 파이썬\n",
    "한빛미디어 \n",
    "(Introducing Python 번역)\n",
    "\n",
    "전부는 아니고, 읽다가 적어두고 싶은 것만 적어둔다."
   ]
  },
  {
   "cell_type": "markdown",
   "metadata": {
    "slideshow": {
     "slide_type": "-"
    }
   },
   "source": [
    "## 4장 파이 크러스트: 코드 구조\n",
    "### 4.10 네임스페이스\n",
    "\n",
    "first class citizen"
   ]
  },
  {
   "cell_type": "code",
   "execution_count": 30,
   "metadata": {
    "collapsed": false
   },
   "outputs": [
    {
     "name": "stdout",
     "output_type": "stream",
     "text": [
      "===1===\n",
      "{}\n",
      "===2===\n",
      "dog\n",
      "{}\n",
      "===3===\n",
      "{}\n",
      "dolphin\n"
     ]
    }
   ],
   "source": [
    "animal = 'dog'\n",
    "def local_func1():\n",
    "    print(\"===1===\")\n",
    "    print(locals())\n",
    "\n",
    "def local_func2():\n",
    "    print(\"===2===\")\n",
    "    print(animal)\n",
    "    print(locals())\n",
    "\n",
    "def local_func3():\n",
    "    animal = 'cat'\n",
    "    print(\"===3===\")\n",
    "    print(animal)\n",
    "    print(locals())\n",
    "\n",
    "def local_func3():\n",
    "    global animal\n",
    "    animal = 'dolphin'    # 이건 글로벌\n",
    "    print(\"===3===\")\n",
    "    print(locals())\n",
    "\n",
    "\n",
    "\n",
    "\n",
    "local_func1()\n",
    "local_func2()\n",
    "local_func3()\n",
    "\n",
    "print(animal)"
   ]
  },
  {
   "cell_type": "code",
   "execution_count": 26,
   "metadata": {
    "collapsed": false
   },
   "outputs": [
    {
     "name": "stdout",
     "output_type": "stream",
     "text": [
      "dog\n"
     ]
    },
    {
     "ename": "UnboundLocalError",
     "evalue": "local variable 'animal' referenced before assignment",
     "output_type": "error",
     "traceback": [
      "\u001b[0;31m---------------------------------------------------------------------------\u001b[0m",
      "\u001b[0;31mUnboundLocalError\u001b[0m                         Traceback (most recent call last)",
      "\u001b[0;32m<ipython-input-26-1a1b35022399>\u001b[0m in \u001b[0;36m<module>\u001b[0;34m()\u001b[0m\n\u001b[1;32m     14\u001b[0m \u001b[0mlocal_func1\u001b[0m\u001b[0;34m(\u001b[0m\u001b[0;34m)\u001b[0m\u001b[0;34m\u001b[0m\u001b[0m\n\u001b[1;32m     15\u001b[0m \u001b[0mlocal_func2\u001b[0m\u001b[0;34m(\u001b[0m\u001b[0;34m)\u001b[0m\u001b[0;34m\u001b[0m\u001b[0m\n\u001b[0;32m---> 16\u001b[0;31m \u001b[0mlocal_func3\u001b[0m\u001b[0;34m(\u001b[0m\u001b[0;34m)\u001b[0m\u001b[0;34m\u001b[0m\u001b[0m\n\u001b[0m",
      "\u001b[0;32m<ipython-input-26-1a1b35022399>\u001b[0m in \u001b[0;36mlocal_func3\u001b[0;34m()\u001b[0m\n\u001b[1;32m      8\u001b[0m \u001b[0;34m\u001b[0m\u001b[0m\n\u001b[1;32m      9\u001b[0m \u001b[0;32mdef\u001b[0m \u001b[0mlocal_func3\u001b[0m\u001b[0;34m(\u001b[0m\u001b[0;34m)\u001b[0m\u001b[0;34m:\u001b[0m    \u001b[0;31m# 이건 오류가 난다.\u001b[0m\u001b[0;34m\u001b[0m\u001b[0m\n\u001b[0;32m---> 10\u001b[0;31m     \u001b[0mprint\u001b[0m\u001b[0;34m(\u001b[0m\u001b[0manimal\u001b[0m\u001b[0;34m)\u001b[0m\u001b[0;34m\u001b[0m\u001b[0m\n\u001b[0m\u001b[1;32m     11\u001b[0m     \u001b[0manimal\u001b[0m \u001b[0;34m=\u001b[0m \u001b[0;34m'cat'\u001b[0m\u001b[0;34m\u001b[0m\u001b[0m\n\u001b[1;32m     12\u001b[0m \u001b[0;34m\u001b[0m\u001b[0m\n",
      "\u001b[0;31mUnboundLocalError\u001b[0m: local variable 'animal' referenced before assignment"
     ]
    }
   ],
   "source": [
    "animal = 'dog'\n",
    "\n",
    "def local_func1():     # 이건 로컬 변수가 된다.\n",
    "    animal = 'cat'\n",
    "\n",
    "def local_func2():     # 이건 글로벌 변수다.\n",
    "    print(animal)\n",
    "\n",
    "def local_func3():    # 이건 오류가 난다.\n",
    "    print(animal)\n",
    "    animal = 'cat'\n",
    "\n",
    "\n",
    "local_func1()\n",
    "local_func2()\n",
    "local_func3()"
   ]
  },
  {
   "cell_type": "code",
   "execution_count": null,
   "metadata": {
    "collapsed": true
   },
   "outputs": [],
   "source": []
  }
 ],
 "metadata": {
  "kernelspec": {
   "display_name": "Python 3",
   "language": "python",
   "name": "python3"
  },
  "language_info": {
   "codemirror_mode": {
    "name": "ipython",
    "version": 3
   },
   "file_extension": ".py",
   "mimetype": "text/x-python",
   "name": "python",
   "nbconvert_exporter": "python",
   "pygments_lexer": "ipython3",
   "version": "3.5.1"
  }
 },
 "nbformat": 4,
 "nbformat_minor": 0
}
