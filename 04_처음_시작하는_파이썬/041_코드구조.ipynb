{
 "cells": [
  {
   "cell_type": "markdown",
   "metadata": {
    "slideshow": {
     "slide_type": "-"
    }
   },
   "source": [
    "# 처음 시작하는 파이썬\n",
    "한빛미디어 \n",
    "(Introducing Python 번역)\n",
    "\n",
    "전부는 아니고, 읽다가 적어두고 싶은 것만 적어둔다."
   ]
  },
  {
   "cell_type": "markdown",
   "metadata": {
    "slideshow": {
     "slide_type": "-"
    }
   },
   "source": [
    "## 4장 파이 크러스트: 코드 구조"
   ]
  },
  {
   "cell_type": "code",
   "execution_count": 1,
   "metadata": {
    "collapsed": false
   },
   "outputs": [
    {
     "data": {
      "text/plain": [
       "'\\nempty_list = list()\\nempty_list = []    # 둘은 같다.\\n\\nempty_dict = dict()\\nempty_set = set()\\n'"
      ]
     },
     "execution_count": 1,
     "metadata": {},
     "output_type": "execute_result"
    }
   ],
   "source": [
    "# 여러줄 코멘트가 없다.\n",
    "# 이렇게 하면된다.\n",
    "\n",
    "\"\"\"\n",
    "empty_list = list()\n",
    "empty_list = []    # 둘은 같다.\n",
    "\n",
    "empty_dict = dict()\n",
    "empty_set = set()\n",
    "\"\"\""
   ]
  },
  {
   "cell_type": "code",
   "execution_count": 3,
   "metadata": {
    "collapsed": false
   },
   "outputs": [
    {
     "name": "stdout",
     "output_type": "stream",
     "text": [
      "abcedfghijklmnopqrstuvwxyz\n"
     ]
    }
   ],
   "source": [
    "# 여러줄은 백슬래시로\n",
    "\n",
    "alphabet = 'abcedfg' + \\\n",
    "'hijklmnopqrstu' + \\\n",
    "'vwxyz'\n",
    "\n",
    "print(alphabet)"
   ]
  },
  {
   "cell_type": "code",
   "execution_count": 3,
   "metadata": {
    "collapsed": false
   },
   "outputs": [
    {
     "name": "stdout",
     "output_type": "stream",
     "text": [
      "여러 비교\n"
     ]
    }
   ],
   "source": [
    "# 여러번 비교를 할 수 있다.\n",
    "x = 5\n",
    "if 3 < x < 8:\n",
    "    print('여러 비교')"
   ]
  },
  {
   "cell_type": "code",
   "execution_count": 4,
   "metadata": {
    "collapsed": false
   },
   "outputs": [
    {
     "name": "stdout",
     "output_type": "stream",
     "text": [
      "empty\n"
     ]
    }
   ],
   "source": [
    "# 빈 컬렉션은 False 이다.\n",
    "poet = []\n",
    "\n",
    "if poet:\n",
    "    print('poet')\n",
    "else:\n",
    "    print('empty')"
   ]
  },
  {
   "cell_type": "markdown",
   "metadata": {},
   "source": [
    "### 4.4 while"
   ]
  },
  {
   "cell_type": "code",
   "execution_count": 17,
   "metadata": {
    "collapsed": false
   },
   "outputs": [
    {
     "name": "stdout",
     "output_type": "stream",
     "text": [
      "1 홀수다\n",
      "3 홀수다\n",
      "5 홀수다\n",
      "짝수가 없으면 여기까지 온다\n"
     ]
    }
   ],
   "source": [
    "# while 문내의 break 문이 실행되지 않으면 else 가 실행된다.\n",
    "\n",
    "nums = [1, 3, 5]\n",
    "idx = 0\n",
    "\n",
    "while idx < len(nums):\n",
    "    num = nums[idx]\n",
    "    idx += 1\n",
    "    if num % 2 == 0:\n",
    "        print(num, '짝수다!')\n",
    "        break\n",
    "    if num % 1 == 0:\n",
    "        print(num, '홀수다')\n",
    "        continue\n",
    "    print(\"이거는 안찍힌다\")\n",
    "else:\n",
    "    print(\"짝수가 없으면 여기까지 온다\")\n",
    "    "
   ]
  },
  {
   "cell_type": "markdown",
   "metadata": {},
   "source": [
    "### 4.5 for"
   ]
  },
  {
   "cell_type": "code",
   "execution_count": 2,
   "metadata": {
    "collapsed": false
   },
   "outputs": [
    {
     "name": "stdout",
     "output_type": "stream",
     "text": [
      "1\n",
      "3\n",
      "5\n",
      "1\n",
      "3\n",
      "5\n"
     ]
    }
   ],
   "source": [
    "# 훨씬 이쁘다.\n",
    "nums = [1, 3, 5]\n",
    "idx = 0\n",
    "\n",
    "while idx < len(nums):\n",
    "    num = nums[idx]\n",
    "    print(num)\n",
    "    idx += 1\n",
    "\n",
    "for num in nums:\n",
    "    print(num)"
   ]
  },
  {
   "cell_type": "code",
   "execution_count": 10,
   "metadata": {
    "collapsed": false
   },
   "outputs": [
    {
     "name": "stdout",
     "output_type": "stream",
     "text": [
      "윤동주\n",
      "김영랑\n",
      "정지용\n",
      "서시\n",
      "모란이 피기까지는\n",
      "향수\n",
      "윤동주 의  서시\n",
      "김영랑 의  모란이 피기까지는\n",
      "정지용 의  향수\n"
     ]
    }
   ],
   "source": [
    "a_list = {'윤동주':'서시', '정지용':'향수', '김영랑':'모란이 피기까지는'}\n",
    "\n",
    "for poet in a_list.keys():\n",
    "    print(poet)\n",
    "    \n",
    "for poem in a_list.values():\n",
    "    print(poem)\n",
    "    \n",
    "for poet, poem in a_list.items():\n",
    "    print(poet, '의 ', poem)"
   ]
  },
  {
   "cell_type": "code",
   "execution_count": 18,
   "metadata": {
    "collapsed": false
   },
   "outputs": [
    {
     "name": "stdout",
     "output_type": "stream",
     "text": [
      "이육사님이 빠졌다!\n"
     ]
    }
   ],
   "source": [
    "# for 문의 else \n",
    "\n",
    "poets = {'윤동주', '정지용', '김영랑'}\n",
    "\n",
    "for poet in poets:\n",
    "    if poet == '이육사':\n",
    "        break\n",
    "else:\n",
    "    print(\"이육사님이 빠졌다!\")"
   ]
  },
  {
   "cell_type": "code",
   "execution_count": 20,
   "metadata": {
    "collapsed": false
   },
   "outputs": [
    {
     "name": "stdout",
     "output_type": "stream",
     "text": [
      "정지용님은 있다!\n"
     ]
    }
   ],
   "source": [
    "# for 문 안쓰고 이렇게 하면 더 간단하지만..\n",
    "\n",
    "if '정지용' in poets:\n",
    "    print('정지용님은 있다!')"
   ]
  },
  {
   "cell_type": "code",
   "execution_count": null,
   "metadata": {
    "collapsed": true
   },
   "outputs": [],
   "source": []
  }
 ],
 "metadata": {
  "kernelspec": {
   "display_name": "Python 3",
   "language": "python",
   "name": "python3"
  },
  "language_info": {
   "codemirror_mode": {
    "name": "ipython",
    "version": 3
   },
   "file_extension": ".py",
   "mimetype": "text/x-python",
   "name": "python",
   "nbconvert_exporter": "python",
   "pygments_lexer": "ipython3",
   "version": "3.5.1"
  }
 },
 "nbformat": 4,
 "nbformat_minor": 0
}
