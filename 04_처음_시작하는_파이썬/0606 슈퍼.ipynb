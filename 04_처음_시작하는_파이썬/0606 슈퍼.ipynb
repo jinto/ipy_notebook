{
 "cells": [
  {
   "cell_type": "markdown",
   "metadata": {
    "collapsed": true
   },
   "source": [
    "## 6.6 부모에게 도움받기 super\n",
    "\n",
    "파이썬에서는 상위클래스의 ```__init__()``` 를 불러주지 않는다.\n"
   ]
  },
  {
   "cell_type": "code",
   "execution_count": 2,
   "metadata": {
    "collapsed": true
   },
   "outputs": [],
   "source": [
    "class Person():\n",
    "    def __init__(self, name):\n",
    "        self.name = name\n",
    "        \n",
    "\n",
    "class EmailPerson():\n",
    "    def __init__(self, name, email):\n",
    "        super().__init__(name)          # 이렇게 상위 클래스의 __init__()를 명시적으로 불러야 호출된다.\n",
    "        self.email = email"
   ]
  },
  {
   "cell_type": "markdown",
   "metadata": {},
   "source": [
    "## 6.8 프로퍼티\n",
    "\n",
    "get_name(), set_name()를 만들고 property() 를 호출한다"
   ]
  },
  {
   "cell_type": "code",
   "execution_count": 4,
   "metadata": {
    "collapsed": false
   },
   "outputs": [
    {
     "data": {
      "text/plain": [
       "'제권이'"
      ]
     },
     "execution_count": 4,
     "metadata": {},
     "output_type": "execute_result"
    }
   ],
   "source": [
    "class Duck():\n",
    "    def __init__(self, name):\n",
    "        self.hidden_name = name\n",
    "    \n",
    "    def get_name(self):\n",
    "        return self.hidden_name\n",
    "    \n",
    "    def set_name(self, name):\n",
    "        self.hidden_name = name\n",
    "        \n",
    "    name = property(get_name, set_name)\n",
    "    \n",
    "d = Duck('제권이')\n",
    "d.name   "
   ]
  },
  {
   "cell_type": "code",
   "execution_count": 9,
   "metadata": {
    "collapsed": false
   },
   "outputs": [
    {
     "name": "stdout",
     "output_type": "stream",
     "text": [
      "제권이\n",
      "영호\n"
     ]
    }
   ],
   "source": [
    "# 앞에꺼랑 같은 동작을 한다. 데코레이터버전\n",
    "class Duck():\n",
    "    def __init__(self, name):\n",
    "        self.hidden_name = name\n",
    "    \n",
    "    @property\n",
    "    def name(self):\n",
    "        return self.hidden_name\n",
    "    \n",
    "    @name.setter\n",
    "    def name(self, name):\n",
    "        self.hidden_name = name\n",
    "    \n",
    "d = Duck('제권이')\n",
    "print(d.name)\n",
    "d.name = '영호'\n",
    "print(d.name)"
   ]
  },
  {
   "cell_type": "code",
   "execution_count": 10,
   "metadata": {
    "collapsed": false
   },
   "outputs": [
    {
     "ename": "AttributeError",
     "evalue": "can't set attribute",
     "output_type": "error",
     "traceback": [
      "\u001b[0;31m---------------------------------------------------------------------------\u001b[0m",
      "\u001b[0;31mAttributeError\u001b[0m                            Traceback (most recent call last)",
      "\u001b[0;32m<ipython-input-10-b460bfecf00c>\u001b[0m in \u001b[0;36m<module>\u001b[0;34m()\u001b[0m\n\u001b[1;32m     11\u001b[0m \u001b[0md\u001b[0m \u001b[0;34m=\u001b[0m \u001b[0mDuck\u001b[0m\u001b[0;34m(\u001b[0m\u001b[0;34m'제권이'\u001b[0m\u001b[0;34m)\u001b[0m\u001b[0;34m\u001b[0m\u001b[0m\n\u001b[1;32m     12\u001b[0m \u001b[0md\u001b[0m\u001b[0;34m.\u001b[0m\u001b[0mname\u001b[0m\u001b[0;34m\u001b[0m\u001b[0m\n\u001b[0;32m---> 13\u001b[0;31m \u001b[0md\u001b[0m\u001b[0;34m.\u001b[0m\u001b[0mname\u001b[0m \u001b[0;34m=\u001b[0m \u001b[0;34m'영호'\u001b[0m   \u001b[0;31m# 여기에서 오류가 난다.\u001b[0m\u001b[0;34m\u001b[0m\u001b[0m\n\u001b[0m",
      "\u001b[0;31mAttributeError\u001b[0m: can't set attribute"
     ]
    }
   ],
   "source": [
    "# 읽기전용 프로퍼티를 만들 수 도 있다.\n",
    "\n",
    "class Duck():\n",
    "    def __init__(self, name):\n",
    "        self.hidden_name = name\n",
    "    \n",
    "    @property\n",
    "    def name(self):\n",
    "        return self.hidden_name\n",
    "    \n",
    "d = Duck('제권이')\n",
    "d.name   \n",
    "d.name = '영호'   # 여기에서 오류가 난다."
   ]
  },
  {
   "cell_type": "code",
   "execution_count": 13,
   "metadata": {
    "collapsed": false
   },
   "outputs": [
    {
     "name": "stdout",
     "output_type": "stream",
     "text": [
      "제권이\n"
     ]
    },
    {
     "ename": "AttributeError",
     "evalue": "'Duck' object has no attribute '__name'",
     "output_type": "error",
     "traceback": [
      "\u001b[0;31m---------------------------------------------------------------------------\u001b[0m",
      "\u001b[0;31mAttributeError\u001b[0m                            Traceback (most recent call last)",
      "\u001b[0;32m<ipython-input-13-2584a5b3998e>\u001b[0m in \u001b[0;36m<module>\u001b[0;34m()\u001b[0m\n\u001b[1;32m     12\u001b[0m \u001b[0md\u001b[0m \u001b[0;34m=\u001b[0m \u001b[0mDuck\u001b[0m\u001b[0;34m(\u001b[0m\u001b[0;34m'제권이'\u001b[0m\u001b[0;34m)\u001b[0m\u001b[0;34m\u001b[0m\u001b[0m\n\u001b[1;32m     13\u001b[0m \u001b[0mprint\u001b[0m\u001b[0;34m(\u001b[0m\u001b[0md\u001b[0m\u001b[0;34m.\u001b[0m\u001b[0m_Duck__name\u001b[0m\u001b[0;34m)\u001b[0m          \u001b[0;31m# 이렇게 해야 접근 가능\u001b[0m\u001b[0;34m\u001b[0m\u001b[0m\n\u001b[0;32m---> 14\u001b[0;31m \u001b[0mprint\u001b[0m\u001b[0;34m(\u001b[0m\u001b[0md\u001b[0m\u001b[0;34m.\u001b[0m\u001b[0m__name\u001b[0m\u001b[0;34m)\u001b[0m               \u001b[0;31m# 이렇게 하면 오류\u001b[0m\u001b[0;34m\u001b[0m\u001b[0m\n\u001b[0m",
      "\u001b[0;31mAttributeError\u001b[0m: 'Duck' object has no attribute '__name'"
     ]
    }
   ],
   "source": [
    "# hidden_name 은 외부에서 보인다. 간이 private이 가능하다\n",
    "\n",
    "class Duck():\n",
    "    def __init__(self, name):\n",
    "        self.__name = name\n",
    "    \n",
    "    @property\n",
    "    def name(self):\n",
    "        return self.__name   # 내부변수에 __ 를 붙이면 접근하기 힘들다.\n",
    "\n",
    "\n",
    "d = Duck('제권이')\n",
    "print(d._Duck__name)          # 이렇게 해야 접근 가능\n",
    "print(d.__name)               # 이렇게 하면 오류"
   ]
  },
  {
   "cell_type": "code",
   "execution_count": null,
   "metadata": {
    "collapsed": true
   },
   "outputs": [],
   "source": []
  }
 ],
 "metadata": {
  "kernelspec": {
   "display_name": "Python 3",
   "language": "python",
   "name": "python3"
  },
  "language_info": {
   "codemirror_mode": {
    "name": "ipython",
    "version": 3
   },
   "file_extension": ".py",
   "mimetype": "text/x-python",
   "name": "python",
   "nbconvert_exporter": "python",
   "pygments_lexer": "ipython3",
   "version": "3.5.1"
  }
 },
 "nbformat": 4,
 "nbformat_minor": 0
}
