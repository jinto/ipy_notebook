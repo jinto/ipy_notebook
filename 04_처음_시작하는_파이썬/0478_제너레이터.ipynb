{
 "cells": [
  {
   "cell_type": "markdown",
   "metadata": {
    "slideshow": {
     "slide_type": "-"
    }
   },
   "source": [
    "# 처음 시작하는 파이썬\n",
    "한빛미디어 \n",
    "(Introducing Python 번역)\n",
    "\n",
    "전부는 아니고, 읽다가 적어두고 싶은 것만 적어둔다."
   ]
  },
  {
   "cell_type": "markdown",
   "metadata": {
    "slideshow": {
     "slide_type": "-"
    }
   },
   "source": [
    "## 4장 파이 크러스트: 코드 구조\n",
    "### 4.8 제너레이터\n",
    "\n",
    "시퀀스를 만들때 메모리를 적게 쓰려면 제너레이터를 사용하자."
   ]
  },
  {
   "cell_type": "code",
   "execution_count": 1,
   "metadata": {
    "collapsed": false
   },
   "outputs": [
    {
     "name": "stdout",
     "output_type": "stream",
     "text": [
      "1\n",
      "3\n",
      "5\n",
      "7\n",
      "9\n"
     ]
    }
   ],
   "source": [
    "# 배열을 만들지 않아서, 그로인한 메모리 소비가 없다.\n",
    "\n",
    "def my_range(first = 0, last = 10, step=1):\n",
    "    number = first\n",
    "    while number < last:\n",
    "        yield number\n",
    "        number += step\n",
    "\n",
    "for x in my_range(1, 10, 2):\n",
    "    print(x)"
   ]
  },
  {
   "cell_type": "markdown",
   "metadata": {},
   "source": [
    "### 4.9 데코레이터\n"
   ]
  },
  {
   "cell_type": "code",
   "execution_count": 6,
   "metadata": {
    "collapsed": false
   },
   "outputs": [
    {
     "name": "stdout",
     "output_type": "stream",
     "text": [
      "===\n",
      "이름: add_ints\n",
      "위치인자: (3, 5)\n",
      "키워드인자: {}\n",
      "결과: 8\n",
      "===\n",
      "이름: del_ints\n",
      "위치인자: (4, 2)\n",
      "키워드인자: {}\n",
      "결과: 2\n"
     ]
    },
    {
     "data": {
      "text/plain": [
       "2"
      ]
     },
     "execution_count": 6,
     "metadata": {},
     "output_type": "execute_result"
    }
   ],
   "source": [
    "def document_it(func):\n",
    "    def new_func(*args, **kwargs):\n",
    "        print(\"===\\n이름:\", func.__name__)\n",
    "        print(\"위치인자:\", args)\n",
    "        print(\"키워드인자:\", kwargs)\n",
    "        res = func(*args, **kwargs)\n",
    "        print(\"결과:\", res)\n",
    "        return res\n",
    "    return new_func\n",
    "\n",
    "\n",
    "def add_ints(a, b):\n",
    "    return a+b\n",
    "\n",
    "add_func = document_it(add_ints)\n",
    "add_func(3,5)\n",
    "\n",
    "@document_it\n",
    "def del_ints(a, b):\n",
    "    return a -b\n",
    "\n",
    "\n",
    "del_ints(4,2)\n"
   ]
  },
  {
   "cell_type": "code",
   "execution_count": null,
   "metadata": {
    "collapsed": true
   },
   "outputs": [],
   "source": []
  }
 ],
 "metadata": {
  "kernelspec": {
   "display_name": "Python 3",
   "language": "python",
   "name": "python3"
  },
  "language_info": {
   "codemirror_mode": {
    "name": "ipython",
    "version": 3
   },
   "file_extension": ".py",
   "mimetype": "text/x-python",
   "name": "python",
   "nbconvert_exporter": "python",
   "pygments_lexer": "ipython3",
   "version": "3.5.1"
  }
 },
 "nbformat": 4,
 "nbformat_minor": 0
}
