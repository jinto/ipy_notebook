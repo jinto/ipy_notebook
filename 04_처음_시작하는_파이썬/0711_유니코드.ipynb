{
 "cells": [
  {
   "cell_type": "markdown",
   "metadata": {},
   "source": [
    "### 7.1.1 유니코드"
   ]
  },
  {
   "cell_type": "code",
   "execution_count": 36,
   "metadata": {
    "collapsed": false
   },
   "outputs": [
    {
     "name": "stdout",
     "output_type": "stream",
     "text": [
      "v=\"A\", name=\"LATIN CAPITAL LETTER A\", value=\"A\n",
      "v=\"$\", name=\"DOLLAR SIGN\", value=\"$\n",
      "v=\"₩\", name=\"WON SIGN\", value=\"₩\n",
      "v=\"¢\", name=\"CENT SIGN\", value=\"¢\n",
      "v=\"€\", name=\"EURO SIGN\", value=\"€\n",
      "v=\"☃\", name=\"SNOWMAN\", value=\"☃\n",
      "v=\"é\", name=\"LATIN SMALL LETTER E WITH ACUTE\", value=\"é\n",
      "₩ ₩ ₩\n"
     ]
    }
   ],
   "source": [
    "def unicode_print(v):\n",
    "    import unicodedata\n",
    "    name = unicodedata.name(v)\n",
    "    value = unicodedata.lookup(name)\n",
    "    print('v=\"%s\", name=\"%s\", value=\"%s' % (v, name, value))\n",
    "    \n",
    "unicode_print('A')\n",
    "unicode_print('$')\n",
    "unicode_print('\\u20a9')\n",
    "unicode_print('\\u00a2')\n",
    "unicode_print('\\u20ac')\n",
    "unicode_print('\\u2603')\n",
    "unicode_print('\\u00e9')\n",
    "\n",
    "# 이렇게 삽입할 수 있다.\n",
    "print(\"₩ \\u20a9 \\N{WON SIGN}\")"
   ]
  },
  {
   "cell_type": "code",
   "execution_count": 18,
   "metadata": {
    "collapsed": false
   },
   "outputs": [
    {
     "name": "stdout",
     "output_type": "stream",
     "text": [
      "₩\n",
      "b'\\xe2\\x82\\xa9'\n",
      "유니코드 문자열 길이: 1\n",
      "UTF8인코딩된 길이:  3\n"
     ]
    }
   ],
   "source": [
    "len1 = len('₩')\n",
    "len2 = len('₩'.encode('utf-8'))   \n",
    "\n",
    "print('₩')\n",
    "print('₩'.encode('utf-8'))        # utf-8 로 만들면 3바이트짜리 바이트 배열이 된다.\n",
    "\n",
    "print(\"유니코드 문자열 길이:\",len1)\n",
    "print(\"UTF8인코딩된 길이: \",len2)"
   ]
  },
  {
   "cell_type": "code",
   "execution_count": 28,
   "metadata": {
    "collapsed": false
   },
   "outputs": [
    {
     "name": "stdout",
     "output_type": "stream",
     "text": [
      "b'test encode : '\n",
      "b'test encode : ??'\n",
      "b'test encode : \\\\ud55c\\\\uae00'\n",
      "b'test encode : &#54620;&#44544;'\n"
     ]
    }
   ],
   "source": [
    "# 인코딩 할수 없는 문자를 처리하는 방법\n",
    "\n",
    "print('test encode : 한글'.encode('ascii', 'ignore')) \n",
    "print('test encode : 한글'.encode('ascii', 'replace')) \n",
    "print('test encode : 한글'.encode('ascii', 'backslashreplace')) \n",
    "print('test encode : 한글'.encode('ascii', 'xmlcharrefreplace')) "
   ]
  },
  {
   "cell_type": "code",
   "execution_count": 35,
   "metadata": {
    "collapsed": false
   },
   "outputs": [
    {
     "name": "stdout",
     "output_type": "stream",
     "text": [
      "b'test encode : \\xed\\x95\\x9c\\xea\\xb8\\x80'\n",
      "test encode : 한글\n"
     ]
    }
   ],
   "source": [
    "# 인코딩해서 http 로 보내거나, 파일에 쓴다. \n",
    "# 그리고, 바이트배열을 읽어서 문자열로 디코딩한다.\n",
    "\n",
    "a = 'test encode : 한글'.encode('utf-8')\n",
    "print(a)\n",
    "print(a.decode('utf-8'))"
   ]
  },
  {
   "cell_type": "code",
   "execution_count": null,
   "metadata": {
    "collapsed": true
   },
   "outputs": [],
   "source": []
  }
 ],
 "metadata": {
  "kernelspec": {
   "display_name": "Python 3",
   "language": "python",
   "name": "python3"
  },
  "language_info": {
   "codemirror_mode": {
    "name": "ipython",
    "version": 3
   },
   "file_extension": ".py",
   "mimetype": "text/x-python",
   "name": "python",
   "nbconvert_exporter": "python",
   "pygments_lexer": "ipython3",
   "version": "3.5.1"
  }
 },
 "nbformat": 4,
 "nbformat_minor": 0
}
